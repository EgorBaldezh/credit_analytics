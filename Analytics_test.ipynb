{
 "cells": [
  {
   "cell_type": "markdown",
   "metadata": {},
   "source": [
    "## Аналитический тест"
   ]
  },
  {
   "cell_type": "code",
   "execution_count": 1,
   "metadata": {},
   "outputs": [],
   "source": [
    "import pandas as pd\n",
    "import numpy as np\n",
    "import seaborn as sns\n",
    "import matplotlib.pyplot as plt\n",
    "\n",
    "%matplotlib inline\n",
    "\n",
    "from tqdm.auto import tqdm\n",
    "\n",
    "import scipy.stats as ss\n",
    "import statsmodels.api as sm\n",
    "from sklearn.linear_model import LogisticRegression\n",
    "from sklearn.model_selection import train_test_split\n",
    "from sklearn import metrics"
   ]
  },
  {
   "cell_type": "markdown",
   "metadata": {},
   "source": [
    "### Предподготовка данных\n",
    "Рассмотрим исходный датасет и скорректируем его для удобства"
   ]
  },
  {
   "cell_type": "code",
   "execution_count": 2,
   "metadata": {},
   "outputs": [
    {
     "data": {
      "text/html": [
       "<div>\n",
       "<style scoped>\n",
       "    .dataframe tbody tr th:only-of-type {\n",
       "        vertical-align: middle;\n",
       "    }\n",
       "\n",
       "    .dataframe tbody tr th {\n",
       "        vertical-align: top;\n",
       "    }\n",
       "\n",
       "    .dataframe thead th {\n",
       "        text-align: right;\n",
       "    }\n",
       "</style>\n",
       "<table border=\"1\" class=\"dataframe\">\n",
       "  <thead>\n",
       "    <tr style=\"text-align: right;\">\n",
       "      <th></th>\n",
       "      <th>Год рождения</th>\n",
       "      <th>Адрес регистрации (регион)</th>\n",
       "      <th>Адрес фактического проживания (регион)</th>\n",
       "      <th>Работодатель есть/нет</th>\n",
       "      <th>Пол</th>\n",
       "      <th>Семейное положение</th>\n",
       "      <th>Образование</th>\n",
       "      <th>Тип клиента</th>\n",
       "      <th>Жилищные условия</th>\n",
       "      <th>Доход1</th>\n",
       "      <th>Доход2</th>\n",
       "      <th>Доход3</th>\n",
       "      <th>Доход4</th>\n",
       "      <th>Количество предоставленных телефонов</th>\n",
       "      <th>Количество предоставленных документов</th>\n",
       "      <th>Просроченная задолженность</th>\n",
       "    </tr>\n",
       "  </thead>\n",
       "  <tbody>\n",
       "    <tr>\n",
       "      <th>0</th>\n",
       "      <td>1958</td>\n",
       "      <td>27</td>\n",
       "      <td>27</td>\n",
       "      <td>0</td>\n",
       "      <td>М</td>\n",
       "      <td>Холост/Не замужем</td>\n",
       "      <td>Среднее специальное</td>\n",
       "      <td>Пенсионер</td>\n",
       "      <td>Собственность индивидуальная</td>\n",
       "      <td>0.0</td>\n",
       "      <td>NaN</td>\n",
       "      <td>14200.0</td>\n",
       "      <td>10000.0</td>\n",
       "      <td>4</td>\n",
       "      <td>1</td>\n",
       "      <td>0</td>\n",
       "    </tr>\n",
       "    <tr>\n",
       "      <th>1</th>\n",
       "      <td>1947</td>\n",
       "      <td>47</td>\n",
       "      <td>47</td>\n",
       "      <td>1</td>\n",
       "      <td>М</td>\n",
       "      <td>Разведен/Разведена</td>\n",
       "      <td>Среднее специальное</td>\n",
       "      <td>Служащий</td>\n",
       "      <td>Собственность совместная</td>\n",
       "      <td>11000.0</td>\n",
       "      <td>NaN</td>\n",
       "      <td>0.0</td>\n",
       "      <td>0.0</td>\n",
       "      <td>5</td>\n",
       "      <td>1</td>\n",
       "      <td>0</td>\n",
       "    </tr>\n",
       "    <tr>\n",
       "      <th>2</th>\n",
       "      <td>1947</td>\n",
       "      <td>47</td>\n",
       "      <td>47</td>\n",
       "      <td>1</td>\n",
       "      <td>М</td>\n",
       "      <td>Разведен/Разведена</td>\n",
       "      <td>Среднее специальное</td>\n",
       "      <td>Служащий</td>\n",
       "      <td>Собственность совместная</td>\n",
       "      <td>11000.0</td>\n",
       "      <td>NaN</td>\n",
       "      <td>0.0</td>\n",
       "      <td>0.0</td>\n",
       "      <td>5</td>\n",
       "      <td>1</td>\n",
       "      <td>0</td>\n",
       "    </tr>\n",
       "    <tr>\n",
       "      <th>3</th>\n",
       "      <td>1990</td>\n",
       "      <td>55</td>\n",
       "      <td>55</td>\n",
       "      <td>1</td>\n",
       "      <td>Ж</td>\n",
       "      <td>Женат/Замужем</td>\n",
       "      <td>Среднее специальное</td>\n",
       "      <td>Служащий</td>\n",
       "      <td>Живу с родителями/родственниками</td>\n",
       "      <td>30000.0</td>\n",
       "      <td>NaN</td>\n",
       "      <td>0.0</td>\n",
       "      <td>0.0</td>\n",
       "      <td>6</td>\n",
       "      <td>1</td>\n",
       "      <td>0</td>\n",
       "    </tr>\n",
       "    <tr>\n",
       "      <th>4</th>\n",
       "      <td>1952</td>\n",
       "      <td>14</td>\n",
       "      <td>14</td>\n",
       "      <td>0</td>\n",
       "      <td>М</td>\n",
       "      <td>Вдовец/Вдова</td>\n",
       "      <td>Высшее</td>\n",
       "      <td>Пенсионер</td>\n",
       "      <td>Собственность индивидуальная</td>\n",
       "      <td>0.0</td>\n",
       "      <td>NaN</td>\n",
       "      <td>30000.0</td>\n",
       "      <td>20000.0</td>\n",
       "      <td>5</td>\n",
       "      <td>1</td>\n",
       "      <td>0</td>\n",
       "    </tr>\n",
       "    <tr>\n",
       "      <th>...</th>\n",
       "      <td>...</td>\n",
       "      <td>...</td>\n",
       "      <td>...</td>\n",
       "      <td>...</td>\n",
       "      <td>...</td>\n",
       "      <td>...</td>\n",
       "      <td>...</td>\n",
       "      <td>...</td>\n",
       "      <td>...</td>\n",
       "      <td>...</td>\n",
       "      <td>...</td>\n",
       "      <td>...</td>\n",
       "      <td>...</td>\n",
       "      <td>...</td>\n",
       "      <td>...</td>\n",
       "      <td>...</td>\n",
       "    </tr>\n",
       "    <tr>\n",
       "      <th>354439</th>\n",
       "      <td>1983</td>\n",
       "      <td>28</td>\n",
       "      <td>28</td>\n",
       "      <td>1</td>\n",
       "      <td>Ж</td>\n",
       "      <td>Холост/Не замужем</td>\n",
       "      <td>Среднее специальное</td>\n",
       "      <td>Служащий</td>\n",
       "      <td>Собственность совместная</td>\n",
       "      <td>45000.0</td>\n",
       "      <td>NaN</td>\n",
       "      <td>0.0</td>\n",
       "      <td>0.0</td>\n",
       "      <td>5</td>\n",
       "      <td>1</td>\n",
       "      <td>0</td>\n",
       "    </tr>\n",
       "    <tr>\n",
       "      <th>354440</th>\n",
       "      <td>1933</td>\n",
       "      <td>4</td>\n",
       "      <td>4</td>\n",
       "      <td>0</td>\n",
       "      <td>Ж</td>\n",
       "      <td>Женат/Замужем</td>\n",
       "      <td>Среднее</td>\n",
       "      <td>Пенсионер</td>\n",
       "      <td>Собственность индивидуальная</td>\n",
       "      <td>0.0</td>\n",
       "      <td>NaN</td>\n",
       "      <td>19000.0</td>\n",
       "      <td>0.0</td>\n",
       "      <td>2</td>\n",
       "      <td>1</td>\n",
       "      <td>0</td>\n",
       "    </tr>\n",
       "    <tr>\n",
       "      <th>354441</th>\n",
       "      <td>1981</td>\n",
       "      <td>38</td>\n",
       "      <td>38</td>\n",
       "      <td>1</td>\n",
       "      <td>М</td>\n",
       "      <td>Женат/Замужем</td>\n",
       "      <td>Незаконченное высшее</td>\n",
       "      <td>Служащий</td>\n",
       "      <td>Собственность индивидуальная</td>\n",
       "      <td>35000.0</td>\n",
       "      <td>NaN</td>\n",
       "      <td>0.0</td>\n",
       "      <td>0.0</td>\n",
       "      <td>5</td>\n",
       "      <td>1</td>\n",
       "      <td>0</td>\n",
       "    </tr>\n",
       "    <tr>\n",
       "      <th>354442</th>\n",
       "      <td>1939</td>\n",
       "      <td>64</td>\n",
       "      <td>64</td>\n",
       "      <td>0</td>\n",
       "      <td>Ж</td>\n",
       "      <td>Вдовец/Вдова</td>\n",
       "      <td>Среднее специальное</td>\n",
       "      <td>Пенсионер</td>\n",
       "      <td>Собственность индивидуальная</td>\n",
       "      <td>0.0</td>\n",
       "      <td>NaN</td>\n",
       "      <td>13200.0</td>\n",
       "      <td>2800.0</td>\n",
       "      <td>5</td>\n",
       "      <td>1</td>\n",
       "      <td>0</td>\n",
       "    </tr>\n",
       "    <tr>\n",
       "      <th>354443</th>\n",
       "      <td>1951</td>\n",
       "      <td>27</td>\n",
       "      <td>27</td>\n",
       "      <td>1</td>\n",
       "      <td>М</td>\n",
       "      <td>Женат/Замужем</td>\n",
       "      <td>Среднее</td>\n",
       "      <td>Служащий</td>\n",
       "      <td>Собственность индивидуальная</td>\n",
       "      <td>10000.0</td>\n",
       "      <td>NaN</td>\n",
       "      <td>0.0</td>\n",
       "      <td>0.0</td>\n",
       "      <td>6</td>\n",
       "      <td>1</td>\n",
       "      <td>0</td>\n",
       "    </tr>\n",
       "  </tbody>\n",
       "</table>\n",
       "<p>354444 rows × 16 columns</p>\n",
       "</div>"
      ],
      "text/plain": [
       "        Год рождения Адрес регистрации (регион)  \\\n",
       "0               1958                         27   \n",
       "1               1947                         47   \n",
       "2               1947                         47   \n",
       "3               1990                         55   \n",
       "4               1952                         14   \n",
       "...              ...                        ...   \n",
       "354439          1983                         28   \n",
       "354440          1933                          4   \n",
       "354441          1981                         38   \n",
       "354442          1939                         64   \n",
       "354443          1951                         27   \n",
       "\n",
       "       Адрес фактического проживания (регион)  Работодатель есть/нет Пол  \\\n",
       "0                                          27                      0   М   \n",
       "1                                          47                      1   М   \n",
       "2                                          47                      1   М   \n",
       "3                                          55                      1   Ж   \n",
       "4                                          14                      0   М   \n",
       "...                                       ...                    ...  ..   \n",
       "354439                                     28                      1   Ж   \n",
       "354440                                      4                      0   Ж   \n",
       "354441                                     38                      1   М   \n",
       "354442                                     64                      0   Ж   \n",
       "354443                                     27                      1   М   \n",
       "\n",
       "        Семейное положение           Образование Тип клиента  \\\n",
       "0        Холост/Не замужем   Среднее специальное   Пенсионер   \n",
       "1       Разведен/Разведена   Среднее специальное    Служащий   \n",
       "2       Разведен/Разведена   Среднее специальное    Служащий   \n",
       "3            Женат/Замужем   Среднее специальное    Служащий   \n",
       "4             Вдовец/Вдова                Высшее   Пенсионер   \n",
       "...                    ...                   ...         ...   \n",
       "354439   Холост/Не замужем   Среднее специальное    Служащий   \n",
       "354440       Женат/Замужем               Среднее   Пенсионер   \n",
       "354441       Женат/Замужем  Незаконченное высшее    Служащий   \n",
       "354442        Вдовец/Вдова   Среднее специальное   Пенсионер   \n",
       "354443       Женат/Замужем               Среднее    Служащий   \n",
       "\n",
       "                        Жилищные условия   Доход1  Доход2   Доход3   Доход4  \\\n",
       "0           Собственность индивидуальная      0.0     NaN  14200.0  10000.0   \n",
       "1               Собственность совместная  11000.0     NaN      0.0      0.0   \n",
       "2               Собственность совместная  11000.0     NaN      0.0      0.0   \n",
       "3       Живу с родителями/родственниками  30000.0     NaN      0.0      0.0   \n",
       "4           Собственность индивидуальная      0.0     NaN  30000.0  20000.0   \n",
       "...                                  ...      ...     ...      ...      ...   \n",
       "354439          Собственность совместная  45000.0     NaN      0.0      0.0   \n",
       "354440      Собственность индивидуальная      0.0     NaN  19000.0      0.0   \n",
       "354441      Собственность индивидуальная  35000.0     NaN      0.0      0.0   \n",
       "354442      Собственность индивидуальная      0.0     NaN  13200.0   2800.0   \n",
       "354443      Собственность индивидуальная  10000.0     NaN      0.0      0.0   \n",
       "\n",
       "        Количество предоставленных телефонов  \\\n",
       "0                                          4   \n",
       "1                                          5   \n",
       "2                                          5   \n",
       "3                                          6   \n",
       "4                                          5   \n",
       "...                                      ...   \n",
       "354439                                     5   \n",
       "354440                                     2   \n",
       "354441                                     5   \n",
       "354442                                     5   \n",
       "354443                                     6   \n",
       "\n",
       "        Количество предоставленных документов  Просроченная задолженность  \n",
       "0                                           1                           0  \n",
       "1                                           1                           0  \n",
       "2                                           1                           0  \n",
       "3                                           1                           0  \n",
       "4                                           1                           0  \n",
       "...                                       ...                         ...  \n",
       "354439                                      1                           0  \n",
       "354440                                      1                           0  \n",
       "354441                                      1                           0  \n",
       "354442                                      1                           0  \n",
       "354443                                      1                           0  \n",
       "\n",
       "[354444 rows x 16 columns]"
      ]
     },
     "execution_count": 2,
     "metadata": {},
     "output_type": "execute_result"
    }
   ],
   "source": [
    "df = pd.read_excel('Test (1).xlsx', usecols='B:Q')\n",
    "df"
   ]
  },
  {
   "cell_type": "markdown",
   "metadata": {},
   "source": [
    "Переименуем столбцы для удобства"
   ]
  },
  {
   "cell_type": "code",
   "execution_count": 3,
   "metadata": {},
   "outputs": [],
   "source": [
    "df = df.rename(columns={\n",
    "    'Год рождения': 'birth_year',\n",
    "    'Адрес регистрации (регион)': 'registration_address',\n",
    "    'Адрес фактического проживания (регион)': 'actual_address',\n",
    "    'Работодатель есть/нет': 'employer',\n",
    "    'Пол': 'sex',\n",
    "    'Семейное положение': 'family',\n",
    "    'Образование': 'education',\n",
    "    'Тип клиента': 'client_type',\n",
    "    'Жилищные условия': 'living_conditions',\n",
    "    'Доход1': 'revenue1',\n",
    "    'Доход2': 'revenue2',\n",
    "    'Доход3': 'revenue3',\n",
    "    'Доход4': 'revenue4',\n",
    "    'Количество предоставленных телефонов': 'phones_provided',\n",
    "    'Количество предоставленных документов': 'documents_provided',\n",
    "    'Просроченная задолженность': 'arrears'\n",
    "})"
   ]
  },
  {
   "cell_type": "markdown",
   "metadata": {},
   "source": [
    "Рассмотрим датасет и опишем данные"
   ]
  },
  {
   "cell_type": "code",
   "execution_count": 4,
   "metadata": {},
   "outputs": [
    {
     "name": "stdout",
     "output_type": "stream",
     "text": [
      "<class 'pandas.core.frame.DataFrame'>\n",
      "RangeIndex: 354444 entries, 0 to 354443\n",
      "Data columns (total 16 columns):\n",
      " #   Column                Non-Null Count   Dtype  \n",
      "---  ------                --------------   -----  \n",
      " 0   birth_year            354444 non-null  int64  \n",
      " 1   registration_address  354444 non-null  object \n",
      " 2   actual_address        354444 non-null  object \n",
      " 3   employer              354444 non-null  int64  \n",
      " 4   sex                   354444 non-null  object \n",
      " 5   family                354444 non-null  object \n",
      " 6   education             354444 non-null  object \n",
      " 7   client_type           354444 non-null  object \n",
      " 8   living_conditions     354444 non-null  object \n",
      " 9   revenue1              354444 non-null  float64\n",
      " 10  revenue2              10486 non-null   float64\n",
      " 11  revenue3              354444 non-null  float64\n",
      " 12  revenue4              354444 non-null  float64\n",
      " 13  phones_provided       354444 non-null  int64  \n",
      " 14  documents_provided    354444 non-null  int64  \n",
      " 15  arrears               354444 non-null  int64  \n",
      "dtypes: float64(4), int64(5), object(7)\n",
      "memory usage: 43.3+ MB\n"
     ]
    }
   ],
   "source": [
    "df.info()"
   ]
  },
  {
   "cell_type": "markdown",
   "metadata": {},
   "source": [
    "Итак, мы имеем 16 столбцов с информацией о клиентах.\n",
    "- __birth_year__ - Год рождения (имеет смысл перевести столбец в возраст);\n",
    "- __registration_address__ - Адрес регистрации (регион);\n",
    "- __actual_address__ - Адрес фактического проживания (регион);\n",
    "- __employer__ - Наличие работодателя (0 и 1);\n",
    "- __sex__ - Пол (М и Ж);\n",
    "- __family__ - Семейное положение ('Вдовец/Вдова', 'Женат/Замужем', 'Неизвестно', 'Неофицальный брак', 'Разведен/Разведена', 'Холост/Не замужем');\n",
    "- __education__ - Образование ('Среднее специальное', 'Высшее', 'Среднее', 'Неполное среднее', 'Незаконченное высшее', 'Неопределено', 'Другое', 'Несколько высших');\n",
    "- __client_type__ - Тип клиента ('Пенсионер', 'Служащий', 'Владелец бизнеса', 'Неопределено', 'Работодатель', 'Студент');\n",
    "- __living_conditions__ - Жилищные условия ('Собственность индивидуальная', 'Собственность совместная', 'Живу с родителями/родственниками', 'Аренда', 'Неопределено')\n",
    "- __revenue(1,2,3,4)__ - 4 типа дохода (лучше объединить в один столбец);\n",
    "- __phones_provided__ - Количество предоставленных телефонов;\n",
    "- __documents_provided__ - Количество предоставленных документов;\n",
    "- __arrears__ - Просроченная задолженность (0 и 1)."
   ]
  },
  {
   "cell_type": "code",
   "execution_count": 5,
   "metadata": {},
   "outputs": [
    {
     "data": {
      "text/plain": [
       "array(['Холост/Не замужем', 'Разведен/Разведена', 'Женат/Замужем',\n",
       "       'Вдовец/Вдова', 'Неофицальный брак', 'Неизвестно '], dtype=object)"
      ]
     },
     "execution_count": 5,
     "metadata": {},
     "output_type": "execute_result"
    }
   ],
   "source": [
    "df.family.unique()"
   ]
  },
  {
   "cell_type": "code",
   "execution_count": 6,
   "metadata": {},
   "outputs": [
    {
     "data": {
      "text/plain": [
       "array(['Среднее специальное', 'Высшее', 'Среднее', 'Неполное среднее',\n",
       "       'Незаконченное высшее', 'Неопределено', 'Другое',\n",
       "       'Несколько высших'], dtype=object)"
      ]
     },
     "execution_count": 6,
     "metadata": {},
     "output_type": "execute_result"
    }
   ],
   "source": [
    "df.education.unique()"
   ]
  },
  {
   "cell_type": "code",
   "execution_count": 7,
   "metadata": {},
   "outputs": [
    {
     "data": {
      "text/plain": [
       "array(['Пенсионер', 'Служащий', 'Владелец бизнеса', 'Неопределено',\n",
       "       'Работодатель', 'Студент'], dtype=object)"
      ]
     },
     "execution_count": 7,
     "metadata": {},
     "output_type": "execute_result"
    }
   ],
   "source": [
    "df.client_type.unique()"
   ]
  },
  {
   "cell_type": "code",
   "execution_count": 8,
   "metadata": {},
   "outputs": [
    {
     "data": {
      "text/plain": [
       "array(['Собственность индивидуальная', 'Собственность совместная',\n",
       "       'Живу с родителями/родственниками', 'Аренда', 'Неопределено'],\n",
       "      dtype=object)"
      ]
     },
     "execution_count": 8,
     "metadata": {},
     "output_type": "execute_result"
    }
   ],
   "source": [
    "df.living_conditions.unique()"
   ]
  },
  {
   "cell_type": "markdown",
   "metadata": {},
   "source": [
    "`Revenue2` содержит много пропущенных значений, заполним их нулями, так как это доход.\n",
    "Затем объединим четыре столбца с доходом в один."
   ]
  },
  {
   "cell_type": "code",
   "execution_count": 9,
   "metadata": {},
   "outputs": [],
   "source": [
    "df['revenue2'] = df.revenue2.fillna(value=0)"
   ]
  },
  {
   "cell_type": "code",
   "execution_count": 10,
   "metadata": {},
   "outputs": [],
   "source": [
    "df['revenue_sum'] = df.revenue1 + df.revenue2 + df.revenue3 + df.revenue4"
   ]
  },
  {
   "cell_type": "markdown",
   "metadata": {},
   "source": [
    "Посчитаем возраст клиентов и сохраним в отдельный столбец"
   ]
  },
  {
   "cell_type": "code",
   "execution_count": 11,
   "metadata": {},
   "outputs": [],
   "source": [
    "df['age'] = 2022 - df.birth_year"
   ]
  },
  {
   "cell_type": "markdown",
   "metadata": {},
   "source": [
    "Рассмотрим категориальные столбцы с местом жительства - по регистрации и фактическим"
   ]
  },
  {
   "cell_type": "code",
   "execution_count": 12,
   "metadata": {},
   "outputs": [
    {
     "data": {
      "text/plain": [
       "array([27, 47, 55, 14, 38, 23, 44, 42, 77, 4, 54, 34, 56, 3, 24, 25, 76,\n",
       "       74, 28, 72, 33, 2, 35, 78, 50, 52, 53, 61, 79, 36, 26, 64, 37, 66,\n",
       "       19, 58, 16, 63, 59, 68, 48, 80, 41, 43, 71, 1, 30, 86, 13, 51, 11,\n",
       "       45, 18, 46, 69, 73, 31, 40, 21, 57, 49, 29, 62, 10, ' СПБ', 12,\n",
       "       ' РФ', 67, 9, 32, 'РЕСПУБЛИКА АБХАЗИЯ', 75, 'обл Костромкая', 60,\n",
       "       83, 7, 8, 'обл. Ростогвская', 39, 'Респ Крым',\n",
       "       'край Красноярс кий', 'Респ. Крым', 'край Краноярский',\n",
       "       'обл Горьковская', 15, 20, 5, 'область Саратовкая', 'респ Крым',\n",
       "       'обл Кемероская', 'край Красноряский', ' Крым', 82, ' Байконур',\n",
       "       ' КЧР', ' Крым респ.', ' Россия', 'ОБЛАСТЬ ЧЕЛБЯИНСКАЯ', 84,\n",
       "       'г Байконур', 87, ' Ханты-Манскийский', ' красногорск',\n",
       "       'обл Нижего', 17, 'КРАЙ ПРИМОСКИЙ', 'область Лмпецкая', 'обл ТюМ',\n",
       "       'край Краснярский', 'область Волгогардская',\n",
       "       'ОБЛАСТЬ АСТРАХАНЬСКАЯ', 'обл Астрахань', ' РОССИЯ', ' НЕТ',\n",
       "       'обл НовосИ'], dtype=object)"
      ]
     },
     "execution_count": 12,
     "metadata": {},
     "output_type": "execute_result"
    }
   ],
   "source": [
    "df.actual_address.unique()"
   ]
  },
  {
   "cell_type": "markdown",
   "metadata": {},
   "source": [
    "В данных много ошибок, заменим их на регионы городов"
   ]
  },
  {
   "cell_type": "code",
   "execution_count": 13,
   "metadata": {},
   "outputs": [],
   "source": [
    "reg_adr = df.registration_address.replace(to_replace=r'^.*(?i)Крым.*$', value='82', regex=True) \\\n",
    "        .replace({' РФ': 0, 'обл Костромкая': 44, ' -': 0, 'обл. Ростогвская': 61, 'край Красноярс кий': 24, \n",
    "         'область Владимисркая': 33, 'край Забойкальский': 75, ' ЕВРЕЙКАЯ АВТОНОМНАЯ ОБЛАСТЬ': 79,\n",
    "         'край Краноярский': 24, 'обл Горьковская': 52, 'область Саратовкая': 64, ' Краснодарсркий край': 23,\n",
    "         ' СПБ': 78, 'край Красноряский': 24, ' МАРИЙСКАЯ АССР': 12, '82': 82, 'г Севастополь': 82, ' Россия': 0,\n",
    "         'ОБЛАСТЬ ЧЕЛБЯИНСКАЯ': 74, 'г Байконур': 99, ' Ханты-Манскийский': 86, ' иваноская обл': 37,\n",
    "         'обл Нижего': 52, 'ОБЛАСТЬ ТЮМЕНЬСКАЯ': 72, 'область Лмпецкая': 48, 'обл ТюМ': 72, 'край Краснярский': 24,\n",
    "         'область Волгогардская': 34, 'обл Астрахн': 30, 'АССР МОРДОВСКАЯ': 13, ' РОССИЯ': 0, ' НЕТ': 0, 'обл НовосИ': 54})\n",
    "\n",
    "df.registration_address = reg_adr"
   ]
  },
  {
   "cell_type": "code",
   "execution_count": 14,
   "metadata": {},
   "outputs": [],
   "source": [
    "act_adr = df.actual_address.replace(to_replace=r'^.*(?i)Крым.*$', value='82', regex=True) \\\n",
    "        .replace({' РФ': 0, 'обл Костромкая': 44, ' -': 0, 'обл. Ростогвская': 61, 'край Красноярс кий': 24, \n",
    "         'область Владимисркая': 33, 'край Забойкальский': 75, ' ЕВРЕЙКАЯ АВТОНОМНАЯ ОБЛАСТЬ': 79,\n",
    "         'край Краноярский': 24, 'обл Горьковская': 52, 'область Саратовкая': 64, ' Краснодарсркий край': 23,\n",
    "         ' СПБ': 78, 'край Красноряский': 24, ' МАРИЙСКАЯ АССР': 12, '82': 82, 'г Севастополь': 82, ' Россия': 0,\n",
    "         'ОБЛАСТЬ ЧЕЛБЯИНСКАЯ': 74, 'г Байконур': 99, ' Ханты-Манскийский': 86, ' иваноская обл': 37,\n",
    "         'обл Нижего': 52, 'ОБЛАСТЬ ТЮМЕНЬСКАЯ': 72, 'область Лмпецкая': 48, 'обл ТюМ': 72, 'край Краснярский': 24,\n",
    "         'область Волгогардская': 34, 'обл Астрахн': 30, 'АССР МОРДОВСКАЯ': 13, ' РОССИЯ': 0, ' НЕТ': 0, 'обл НовосИ': 54,\n",
    "         'РЕСПУБЛИКА АБХАЗИЯ': 'abh', 'обл Кемероская': 42, ' Байконур': 99, ' КЧР': 9, ' красногорск': 50, \n",
    "         'КРАЙ ПРИМОСКИЙ': 25, 'ОБЛАСТЬ АСТРАХАНЬСКАЯ': 30, 'обл Астрахань': 30})\n",
    "\n",
    "df.actual_address = act_adr"
   ]
  },
  {
   "cell_type": "code",
   "execution_count": 15,
   "metadata": {},
   "outputs": [
    {
     "data": {
      "text/plain": [
       "birth_year                 68\n",
       "registration_address       84\n",
       "actual_address             84\n",
       "employer                    2\n",
       "sex                         2\n",
       "family                      6\n",
       "education                   8\n",
       "client_type                 6\n",
       "living_conditions           5\n",
       "revenue1                 3944\n",
       "revenue2                  295\n",
       "revenue3                 5499\n",
       "revenue4                 1225\n",
       "phones_provided             7\n",
       "documents_provided          6\n",
       "arrears                     2\n",
       "revenue_sum             10174\n",
       "age                        68\n",
       "dtype: int64"
      ]
     },
     "execution_count": 15,
     "metadata": {},
     "output_type": "execute_result"
    }
   ],
   "source": [
    "df.nunique()"
   ]
  },
  {
   "cell_type": "markdown",
   "metadata": {},
   "source": [
    "Категорий очень много и сравнивать их между собой будет нерационально. Объединим их по федеральным округам. Будем использовать только столбец с фактическим проживанием."
   ]
  },
  {
   "cell_type": "code",
   "execution_count": 16,
   "metadata": {},
   "outputs": [
    {
     "name": "stderr",
     "output_type": "stream",
     "text": [
      "/opt/tljh/user/lib/python3.7/site-packages/pandas/core/indexing.py:670: SettingWithCopyWarning: \n",
      "A value is trying to be set on a copy of a slice from a DataFrame\n",
      "\n",
      "See the caveats in the documentation: https://pandas.pydata.org/pandas-docs/stable/user_guide/indexing.html#returning-a-view-versus-a-copy\n",
      "  iloc._setitem_with_indexer(indexer, value)\n"
     ]
    }
   ],
   "source": [
    "df['federal_district'] = df.actual_address.copy()\n",
    "df.federal_district.loc[df.federal_district.isin([0, 31, 32, 33, 36, 37, 40, 44, \n",
    "                                                  46, 48, 50, 57, 62, 67, 68, 69, 71, 76, 77])] = 'central'\n",
    "df.federal_district.loc[df.federal_district.isin(['abh', 1, 30, 34, 8, 61, 82, 23, 80, 99, 84])] = 'south'\n",
    "df.federal_district.loc[df.federal_district.isin([29, 35, 39, 10, 11, 47, 51, 83, 53, 60, 78])] = 'northwest'\n",
    "df.federal_district.loc[df.federal_district.isin([28, 3, 79, 75, 41, 49, 25, 14, 65, 27, 87])] = 'fareast'\n",
    "df.federal_district.loc[df.federal_district.isin([4, 22, 38, 42, 24, 54, 55, 70, 17, 19])] = 'siberian'\n",
    "df.federal_district.loc[df.federal_district.isin([45, 66, 72, 86, 74])] = 'ural'\n",
    "df.federal_district.loc[df.federal_district.isin([2, 43, 12, 13, 52, 56, 58, 59, 63, 64, 16, 18, 73, 21])] = 'volga'\n",
    "df.federal_district.loc[df.federal_district.isin([5, 6, 7, 9, 15, 26, 20])] = 'caucasian'"
   ]
  },
  {
   "cell_type": "code",
   "execution_count": 17,
   "metadata": {},
   "outputs": [
    {
     "data": {
      "text/plain": [
       "array(['fareast', 'northwest', 'siberian', 'south', 'central', 'volga',\n",
       "       'ural', 'caucasian'], dtype=object)"
      ]
     },
     "execution_count": 17,
     "metadata": {},
     "output_type": "execute_result"
    }
   ],
   "source": [
    "df.federal_district.unique()"
   ]
  },
  {
   "cell_type": "markdown",
   "metadata": {},
   "source": [
    "Теперь исключим из датасета ненужные столбцы."
   ]
  },
  {
   "cell_type": "code",
   "execution_count": 18,
   "metadata": {},
   "outputs": [],
   "source": [
    "df = df.drop(['birth_year', 'revenue1', 'revenue2', 'revenue3', 'revenue4', 'registration_address', 'actual_address'], axis=1)"
   ]
  },
  {
   "cell_type": "code",
   "execution_count": 19,
   "metadata": {},
   "outputs": [
    {
     "data": {
      "text/html": [
       "<div>\n",
       "<style scoped>\n",
       "    .dataframe tbody tr th:only-of-type {\n",
       "        vertical-align: middle;\n",
       "    }\n",
       "\n",
       "    .dataframe tbody tr th {\n",
       "        vertical-align: top;\n",
       "    }\n",
       "\n",
       "    .dataframe thead th {\n",
       "        text-align: right;\n",
       "    }\n",
       "</style>\n",
       "<table border=\"1\" class=\"dataframe\">\n",
       "  <thead>\n",
       "    <tr style=\"text-align: right;\">\n",
       "      <th>family</th>\n",
       "      <th>Вдовец/Вдова</th>\n",
       "      <th>Женат/Замужем</th>\n",
       "      <th>Неизвестно</th>\n",
       "      <th>Неофицальный брак</th>\n",
       "      <th>Разведен/Разведена</th>\n",
       "      <th>Холост/Не замужем</th>\n",
       "    </tr>\n",
       "    <tr>\n",
       "      <th>arrears</th>\n",
       "      <th></th>\n",
       "      <th></th>\n",
       "      <th></th>\n",
       "      <th></th>\n",
       "      <th></th>\n",
       "      <th></th>\n",
       "    </tr>\n",
       "  </thead>\n",
       "  <tbody>\n",
       "    <tr>\n",
       "      <th>0</th>\n",
       "      <td>49860</td>\n",
       "      <td>139890</td>\n",
       "      <td>51149</td>\n",
       "      <td>23583</td>\n",
       "      <td>41541</td>\n",
       "      <td>45289</td>\n",
       "    </tr>\n",
       "    <tr>\n",
       "      <th>1</th>\n",
       "      <td>466</td>\n",
       "      <td>1204</td>\n",
       "      <td>0</td>\n",
       "      <td>308</td>\n",
       "      <td>527</td>\n",
       "      <td>627</td>\n",
       "    </tr>\n",
       "  </tbody>\n",
       "</table>\n",
       "</div>"
      ],
      "text/plain": [
       "family   Вдовец/Вдова  Женат/Замужем  Неизвестно   Неофицальный брак  \\\n",
       "arrears                                                                \n",
       "0               49860         139890        51149              23583   \n",
       "1                 466           1204            0                308   \n",
       "\n",
       "family   Разведен/Разведена  Холост/Не замужем  \n",
       "arrears                                         \n",
       "0                     41541              45289  \n",
       "1                       527                627  "
      ]
     },
     "execution_count": 19,
     "metadata": {},
     "output_type": "execute_result"
    }
   ],
   "source": [
    "pd.crosstab(df.arrears, df.family)"
   ]
  },
  {
   "cell_type": "code",
   "execution_count": 20,
   "metadata": {},
   "outputs": [
    {
     "data": {
      "text/html": [
       "<div>\n",
       "<style scoped>\n",
       "    .dataframe tbody tr th:only-of-type {\n",
       "        vertical-align: middle;\n",
       "    }\n",
       "\n",
       "    .dataframe tbody tr th {\n",
       "        vertical-align: top;\n",
       "    }\n",
       "\n",
       "    .dataframe thead th {\n",
       "        text-align: right;\n",
       "    }\n",
       "</style>\n",
       "<table border=\"1\" class=\"dataframe\">\n",
       "  <thead>\n",
       "    <tr style=\"text-align: right;\">\n",
       "      <th>education</th>\n",
       "      <th>Высшее</th>\n",
       "      <th>Другое</th>\n",
       "      <th>Незаконченное высшее</th>\n",
       "      <th>Неопределено</th>\n",
       "      <th>Неполное среднее</th>\n",
       "      <th>Несколько высших</th>\n",
       "      <th>Среднее</th>\n",
       "      <th>Среднее специальное</th>\n",
       "    </tr>\n",
       "    <tr>\n",
       "      <th>arrears</th>\n",
       "      <th></th>\n",
       "      <th></th>\n",
       "      <th></th>\n",
       "      <th></th>\n",
       "      <th></th>\n",
       "      <th></th>\n",
       "      <th></th>\n",
       "      <th></th>\n",
       "    </tr>\n",
       "  </thead>\n",
       "  <tbody>\n",
       "    <tr>\n",
       "      <th>0</th>\n",
       "      <td>56923</td>\n",
       "      <td>566</td>\n",
       "      <td>7238</td>\n",
       "      <td>53873</td>\n",
       "      <td>11453</td>\n",
       "      <td>364</td>\n",
       "      <td>86815</td>\n",
       "      <td>134080</td>\n",
       "    </tr>\n",
       "    <tr>\n",
       "      <th>1</th>\n",
       "      <td>431</td>\n",
       "      <td>0</td>\n",
       "      <td>89</td>\n",
       "      <td>0</td>\n",
       "      <td>122</td>\n",
       "      <td>1</td>\n",
       "      <td>1002</td>\n",
       "      <td>1487</td>\n",
       "    </tr>\n",
       "  </tbody>\n",
       "</table>\n",
       "</div>"
      ],
      "text/plain": [
       "education  Высшее  Другое  Незаконченное высшее  Неопределено  \\\n",
       "arrears                                                         \n",
       "0           56923     566                  7238         53873   \n",
       "1             431       0                    89             0   \n",
       "\n",
       "education  Неполное среднее  Несколько высших  Среднее  Среднее специальное  \n",
       "arrears                                                                      \n",
       "0                     11453               364    86815               134080  \n",
       "1                       122                 1     1002                 1487  "
      ]
     },
     "execution_count": 20,
     "metadata": {},
     "output_type": "execute_result"
    }
   ],
   "source": [
    "pd.crosstab(df.arrears, df.education)"
   ]
  },
  {
   "cell_type": "code",
   "execution_count": 21,
   "metadata": {},
   "outputs": [
    {
     "data": {
      "text/html": [
       "<div>\n",
       "<style scoped>\n",
       "    .dataframe tbody tr th:only-of-type {\n",
       "        vertical-align: middle;\n",
       "    }\n",
       "\n",
       "    .dataframe tbody tr th {\n",
       "        vertical-align: top;\n",
       "    }\n",
       "\n",
       "    .dataframe thead th {\n",
       "        text-align: right;\n",
       "    }\n",
       "</style>\n",
       "<table border=\"1\" class=\"dataframe\">\n",
       "  <thead>\n",
       "    <tr style=\"text-align: right;\">\n",
       "      <th>client_type</th>\n",
       "      <th>Владелец бизнеса</th>\n",
       "      <th>Неопределено</th>\n",
       "      <th>Пенсионер</th>\n",
       "      <th>Работодатель</th>\n",
       "      <th>Служащий</th>\n",
       "      <th>Студент</th>\n",
       "    </tr>\n",
       "    <tr>\n",
       "      <th>arrears</th>\n",
       "      <th></th>\n",
       "      <th></th>\n",
       "      <th></th>\n",
       "      <th></th>\n",
       "      <th></th>\n",
       "      <th></th>\n",
       "    </tr>\n",
       "  </thead>\n",
       "  <tbody>\n",
       "    <tr>\n",
       "      <th>0</th>\n",
       "      <td>4591</td>\n",
       "      <td>36913</td>\n",
       "      <td>123226</td>\n",
       "      <td>621</td>\n",
       "      <td>185775</td>\n",
       "      <td>186</td>\n",
       "    </tr>\n",
       "    <tr>\n",
       "      <th>1</th>\n",
       "      <td>42</td>\n",
       "      <td>0</td>\n",
       "      <td>932</td>\n",
       "      <td>5</td>\n",
       "      <td>2148</td>\n",
       "      <td>5</td>\n",
       "    </tr>\n",
       "  </tbody>\n",
       "</table>\n",
       "</div>"
      ],
      "text/plain": [
       "client_type  Владелец бизнеса  Неопределено  Пенсионер  Работодатель  \\\n",
       "arrears                                                                \n",
       "0                        4591         36913     123226           621   \n",
       "1                          42             0        932             5   \n",
       "\n",
       "client_type  Служащий  Студент  \n",
       "arrears                         \n",
       "0              185775      186  \n",
       "1                2148        5  "
      ]
     },
     "execution_count": 21,
     "metadata": {},
     "output_type": "execute_result"
    }
   ],
   "source": [
    "pd.crosstab(df.arrears, df.client_type)"
   ]
  },
  {
   "cell_type": "code",
   "execution_count": 22,
   "metadata": {},
   "outputs": [
    {
     "data": {
      "text/html": [
       "<div>\n",
       "<style scoped>\n",
       "    .dataframe tbody tr th:only-of-type {\n",
       "        vertical-align: middle;\n",
       "    }\n",
       "\n",
       "    .dataframe tbody tr th {\n",
       "        vertical-align: top;\n",
       "    }\n",
       "\n",
       "    .dataframe thead th {\n",
       "        text-align: right;\n",
       "    }\n",
       "</style>\n",
       "<table border=\"1\" class=\"dataframe\">\n",
       "  <thead>\n",
       "    <tr style=\"text-align: right;\">\n",
       "      <th>living_conditions</th>\n",
       "      <th>Аренда</th>\n",
       "      <th>Живу с родителями/родственниками</th>\n",
       "      <th>Неопределено</th>\n",
       "      <th>Собственность индивидуальная</th>\n",
       "      <th>Собственность совместная</th>\n",
       "    </tr>\n",
       "    <tr>\n",
       "      <th>arrears</th>\n",
       "      <th></th>\n",
       "      <th></th>\n",
       "      <th></th>\n",
       "      <th></th>\n",
       "      <th></th>\n",
       "    </tr>\n",
       "  </thead>\n",
       "  <tbody>\n",
       "    <tr>\n",
       "      <th>0</th>\n",
       "      <td>23336</td>\n",
       "      <td>8044</td>\n",
       "      <td>53818</td>\n",
       "      <td>230300</td>\n",
       "      <td>35814</td>\n",
       "    </tr>\n",
       "    <tr>\n",
       "      <th>1</th>\n",
       "      <td>283</td>\n",
       "      <td>105</td>\n",
       "      <td>0</td>\n",
       "      <td>2269</td>\n",
       "      <td>475</td>\n",
       "    </tr>\n",
       "  </tbody>\n",
       "</table>\n",
       "</div>"
      ],
      "text/plain": [
       "living_conditions  Аренда  Живу с родителями/родственниками  Неопределено  \\\n",
       "arrears                                                                     \n",
       "0                   23336                              8044         53818   \n",
       "1                     283                               105             0   \n",
       "\n",
       "living_conditions  Собственность индивидуальная  Собственность совместная  \n",
       "arrears                                                                    \n",
       "0                                        230300                     35814  \n",
       "1                                          2269                       475  "
      ]
     },
     "execution_count": 22,
     "metadata": {},
     "output_type": "execute_result"
    }
   ],
   "source": [
    "pd.crosstab(df.arrears, df.living_conditions)"
   ]
  },
  {
   "cell_type": "markdown",
   "metadata": {},
   "source": [
    "В почти всех категориальных переменных есть клиенты с отсутствующей информацией, причем все они не являются должниками. Уберем строки с информацией об этих клиентах, так как они могут исказить картину и конечную математическую модель."
   ]
  },
  {
   "cell_type": "code",
   "execution_count": 23,
   "metadata": {},
   "outputs": [],
   "source": [
    "df = df.query(\"family != 'Неизвестно' and education != 'Неопределено' \\\n",
    "              and client_type != 'Неопределено' and living_conditions != 'Неопределено'\")"
   ]
  },
  {
   "cell_type": "code",
   "execution_count": 103,
   "metadata": {},
   "outputs": [
    {
     "data": {
      "text/plain": [
       "False    172351\n",
       "True     128220\n",
       "dtype: int64"
      ]
     },
     "execution_count": 103,
     "metadata": {},
     "output_type": "execute_result"
    }
   ],
   "source": [
    "df.duplicated().value_counts()"
   ]
  },
  {
   "cell_type": "markdown",
   "metadata": {},
   "source": [
    "Также в данных достаточно много дубликатов - мы не будем их убирать из датасета, такое вполне могло произойти из-за объединения нескольких столбцов. Кроме того, так может исказиться картина, описываемая данными."
   ]
  },
  {
   "cell_type": "code",
   "execution_count": 24,
   "metadata": {},
   "outputs": [
    {
     "data": {
      "text/html": [
       "<div>\n",
       "<style scoped>\n",
       "    .dataframe tbody tr th:only-of-type {\n",
       "        vertical-align: middle;\n",
       "    }\n",
       "\n",
       "    .dataframe tbody tr th {\n",
       "        vertical-align: top;\n",
       "    }\n",
       "\n",
       "    .dataframe thead th {\n",
       "        text-align: right;\n",
       "    }\n",
       "</style>\n",
       "<table border=\"1\" class=\"dataframe\">\n",
       "  <thead>\n",
       "    <tr style=\"text-align: right;\">\n",
       "      <th></th>\n",
       "      <th>employer</th>\n",
       "      <th>sex</th>\n",
       "      <th>family</th>\n",
       "      <th>education</th>\n",
       "      <th>client_type</th>\n",
       "      <th>living_conditions</th>\n",
       "      <th>phones_provided</th>\n",
       "      <th>documents_provided</th>\n",
       "      <th>arrears</th>\n",
       "      <th>revenue_sum</th>\n",
       "      <th>age</th>\n",
       "      <th>federal_district</th>\n",
       "    </tr>\n",
       "  </thead>\n",
       "  <tbody>\n",
       "    <tr>\n",
       "      <th>0</th>\n",
       "      <td>0</td>\n",
       "      <td>М</td>\n",
       "      <td>Холост/Не замужем</td>\n",
       "      <td>Среднее специальное</td>\n",
       "      <td>Пенсионер</td>\n",
       "      <td>Собственность индивидуальная</td>\n",
       "      <td>4</td>\n",
       "      <td>1</td>\n",
       "      <td>0</td>\n",
       "      <td>24200.0</td>\n",
       "      <td>64</td>\n",
       "      <td>fareast</td>\n",
       "    </tr>\n",
       "    <tr>\n",
       "      <th>1</th>\n",
       "      <td>1</td>\n",
       "      <td>М</td>\n",
       "      <td>Разведен/Разведена</td>\n",
       "      <td>Среднее специальное</td>\n",
       "      <td>Служащий</td>\n",
       "      <td>Собственность совместная</td>\n",
       "      <td>5</td>\n",
       "      <td>1</td>\n",
       "      <td>0</td>\n",
       "      <td>11000.0</td>\n",
       "      <td>75</td>\n",
       "      <td>northwest</td>\n",
       "    </tr>\n",
       "    <tr>\n",
       "      <th>2</th>\n",
       "      <td>1</td>\n",
       "      <td>М</td>\n",
       "      <td>Разведен/Разведена</td>\n",
       "      <td>Среднее специальное</td>\n",
       "      <td>Служащий</td>\n",
       "      <td>Собственность совместная</td>\n",
       "      <td>5</td>\n",
       "      <td>1</td>\n",
       "      <td>0</td>\n",
       "      <td>11000.0</td>\n",
       "      <td>75</td>\n",
       "      <td>northwest</td>\n",
       "    </tr>\n",
       "    <tr>\n",
       "      <th>3</th>\n",
       "      <td>1</td>\n",
       "      <td>Ж</td>\n",
       "      <td>Женат/Замужем</td>\n",
       "      <td>Среднее специальное</td>\n",
       "      <td>Служащий</td>\n",
       "      <td>Живу с родителями/родственниками</td>\n",
       "      <td>6</td>\n",
       "      <td>1</td>\n",
       "      <td>0</td>\n",
       "      <td>30000.0</td>\n",
       "      <td>32</td>\n",
       "      <td>siberian</td>\n",
       "    </tr>\n",
       "    <tr>\n",
       "      <th>4</th>\n",
       "      <td>0</td>\n",
       "      <td>М</td>\n",
       "      <td>Вдовец/Вдова</td>\n",
       "      <td>Высшее</td>\n",
       "      <td>Пенсионер</td>\n",
       "      <td>Собственность индивидуальная</td>\n",
       "      <td>5</td>\n",
       "      <td>1</td>\n",
       "      <td>0</td>\n",
       "      <td>50000.0</td>\n",
       "      <td>70</td>\n",
       "      <td>fareast</td>\n",
       "    </tr>\n",
       "  </tbody>\n",
       "</table>\n",
       "</div>"
      ],
      "text/plain": [
       "   employer sex              family            education client_type  \\\n",
       "0         0   М   Холост/Не замужем  Среднее специальное   Пенсионер   \n",
       "1         1   М  Разведен/Разведена  Среднее специальное    Служащий   \n",
       "2         1   М  Разведен/Разведена  Среднее специальное    Служащий   \n",
       "3         1   Ж       Женат/Замужем  Среднее специальное    Служащий   \n",
       "4         0   М        Вдовец/Вдова               Высшее   Пенсионер   \n",
       "\n",
       "                  living_conditions  phones_provided  documents_provided  \\\n",
       "0      Собственность индивидуальная                4                   1   \n",
       "1          Собственность совместная                5                   1   \n",
       "2          Собственность совместная                5                   1   \n",
       "3  Живу с родителями/родственниками                6                   1   \n",
       "4      Собственность индивидуальная                5                   1   \n",
       "\n",
       "   arrears  revenue_sum  age federal_district  \n",
       "0        0      24200.0   64          fareast  \n",
       "1        0      11000.0   75        northwest  \n",
       "2        0      11000.0   75        northwest  \n",
       "3        0      30000.0   32         siberian  \n",
       "4        0      50000.0   70          fareast  "
      ]
     },
     "execution_count": 24,
     "metadata": {},
     "output_type": "execute_result"
    }
   ],
   "source": [
    "df.head()"
   ]
  },
  {
   "cell_type": "markdown",
   "metadata": {},
   "source": [
    "### Разведочный анализ данных\n",
    "\n",
    "Теперь изучим наши данные, посмотрим какие есть зависимости между переменными и насколько эти зависимости статистически значимы."
   ]
  },
  {
   "cell_type": "markdown",
   "metadata": {},
   "source": [
    "#### Описание данных"
   ]
  },
  {
   "cell_type": "code",
   "execution_count": 25,
   "metadata": {},
   "outputs": [
    {
     "data": {
      "text/html": [
       "<div>\n",
       "<style scoped>\n",
       "    .dataframe tbody tr th:only-of-type {\n",
       "        vertical-align: middle;\n",
       "    }\n",
       "\n",
       "    .dataframe tbody tr th {\n",
       "        vertical-align: top;\n",
       "    }\n",
       "\n",
       "    .dataframe thead th {\n",
       "        text-align: right;\n",
       "    }\n",
       "</style>\n",
       "<table border=\"1\" class=\"dataframe\">\n",
       "  <thead>\n",
       "    <tr style=\"text-align: right;\">\n",
       "      <th></th>\n",
       "      <th>employer</th>\n",
       "      <th>phones_provided</th>\n",
       "      <th>documents_provided</th>\n",
       "      <th>arrears</th>\n",
       "      <th>revenue_sum</th>\n",
       "      <th>age</th>\n",
       "    </tr>\n",
       "  </thead>\n",
       "  <tbody>\n",
       "    <tr>\n",
       "      <th>count</th>\n",
       "      <td>300571.000000</td>\n",
       "      <td>300571.000000</td>\n",
       "      <td>300571.000000</td>\n",
       "      <td>300571.000000</td>\n",
       "      <td>3.005710e+05</td>\n",
       "      <td>300571.000000</td>\n",
       "    </tr>\n",
       "    <tr>\n",
       "      <th>mean</th>\n",
       "      <td>0.643262</td>\n",
       "      <td>4.905706</td>\n",
       "      <td>0.952261</td>\n",
       "      <td>0.010420</td>\n",
       "      <td>2.801959e+04</td>\n",
       "      <td>56.116172</td>\n",
       "    </tr>\n",
       "    <tr>\n",
       "      <th>std</th>\n",
       "      <td>0.479037</td>\n",
       "      <td>1.159768</td>\n",
       "      <td>0.307723</td>\n",
       "      <td>0.101546</td>\n",
       "      <td>3.262845e+04</td>\n",
       "      <td>14.676393</td>\n",
       "    </tr>\n",
       "    <tr>\n",
       "      <th>min</th>\n",
       "      <td>0.000000</td>\n",
       "      <td>1.000000</td>\n",
       "      <td>0.000000</td>\n",
       "      <td>0.000000</td>\n",
       "      <td>1.000000e+00</td>\n",
       "      <td>24.000000</td>\n",
       "    </tr>\n",
       "    <tr>\n",
       "      <th>25%</th>\n",
       "      <td>0.000000</td>\n",
       "      <td>4.000000</td>\n",
       "      <td>1.000000</td>\n",
       "      <td>0.000000</td>\n",
       "      <td>1.500000e+04</td>\n",
       "      <td>44.000000</td>\n",
       "    </tr>\n",
       "    <tr>\n",
       "      <th>50%</th>\n",
       "      <td>1.000000</td>\n",
       "      <td>5.000000</td>\n",
       "      <td>1.000000</td>\n",
       "      <td>0.000000</td>\n",
       "      <td>2.200000e+04</td>\n",
       "      <td>58.000000</td>\n",
       "    </tr>\n",
       "    <tr>\n",
       "      <th>75%</th>\n",
       "      <td>1.000000</td>\n",
       "      <td>6.000000</td>\n",
       "      <td>1.000000</td>\n",
       "      <td>0.000000</td>\n",
       "      <td>3.300000e+04</td>\n",
       "      <td>68.000000</td>\n",
       "    </tr>\n",
       "    <tr>\n",
       "      <th>max</th>\n",
       "      <td>1.000000</td>\n",
       "      <td>7.000000</td>\n",
       "      <td>5.000000</td>\n",
       "      <td>1.000000</td>\n",
       "      <td>3.500000e+06</td>\n",
       "      <td>91.000000</td>\n",
       "    </tr>\n",
       "  </tbody>\n",
       "</table>\n",
       "</div>"
      ],
      "text/plain": [
       "            employer  phones_provided  documents_provided        arrears  \\\n",
       "count  300571.000000    300571.000000       300571.000000  300571.000000   \n",
       "mean        0.643262         4.905706            0.952261       0.010420   \n",
       "std         0.479037         1.159768            0.307723       0.101546   \n",
       "min         0.000000         1.000000            0.000000       0.000000   \n",
       "25%         0.000000         4.000000            1.000000       0.000000   \n",
       "50%         1.000000         5.000000            1.000000       0.000000   \n",
       "75%         1.000000         6.000000            1.000000       0.000000   \n",
       "max         1.000000         7.000000            5.000000       1.000000   \n",
       "\n",
       "        revenue_sum            age  \n",
       "count  3.005710e+05  300571.000000  \n",
       "mean   2.801959e+04      56.116172  \n",
       "std    3.262845e+04      14.676393  \n",
       "min    1.000000e+00      24.000000  \n",
       "25%    1.500000e+04      44.000000  \n",
       "50%    2.200000e+04      58.000000  \n",
       "75%    3.300000e+04      68.000000  \n",
       "max    3.500000e+06      91.000000  "
      ]
     },
     "execution_count": 25,
     "metadata": {},
     "output_type": "execute_result"
    }
   ],
   "source": [
    "df.describe()"
   ]
  },
  {
   "cell_type": "code",
   "execution_count": 26,
   "metadata": {},
   "outputs": [
    {
     "data": {
      "text/plain": [
       "<seaborn.axisgrid.PairGrid at 0x7f6173a80c88>"
      ]
     },
     "execution_count": 26,
     "metadata": {},
     "output_type": "execute_result"
    },
    {
     "data": {
      "image/png": "[encoded data removed]",
      "text/plain": [
       "<Figure size 1080x1080 with 42 Axes>"
      ]
     },
     "metadata": {
      "needs_background": "light"
     },
     "output_type": "display_data"
    }
   ],
   "source": [
    "sns.pairplot(df)"
   ]
  },
  {
   "cell_type": "markdown",
   "metadata": {},
   "source": [
    "#### Прогнозируемая переменная (желаемая цель):\n",
    "\n",
    "`arrears` — просрочил ли клиент платеж (двоично: “1” означает “Да”, “0” означает “Нет”)."
   ]
  },
  {
   "cell_type": "code",
   "execution_count": 27,
   "metadata": {},
   "outputs": [
    {
     "data": {
      "text/plain": [
       "0    297439\n",
       "1      3132\n",
       "Name: arrears, dtype: int64"
      ]
     },
     "execution_count": 27,
     "metadata": {},
     "output_type": "execute_result"
    }
   ],
   "source": [
    "df.arrears.value_counts()"
   ]
  },
  {
   "cell_type": "code",
   "execution_count": 28,
   "metadata": {},
   "outputs": [
    {
     "data": {
      "image/png": "[encoded data removed]",
      "text/plain": [
       "<Figure size 432x288 with 1 Axes>"
      ]
     },
     "metadata": {
      "needs_background": "light"
     },
     "output_type": "display_data"
    }
   ],
   "source": [
    "ax = sns.barplot(data=df.arrears.value_counts(normalize=True).mul(100).reset_index(), y='arrears', x='index')\n",
    "for bar in ax.patches:\n",
    "   \n",
    "  # Using Matplotlib's annotate function and\n",
    "  # passing the coordinates where the annotation shall be done\n",
    "  # x-coordinate: bar.get_x() + bar.get_width() / 2\n",
    "  # y-coordinate: bar.get_height()\n",
    "  # free space to be left to make graph pleasing: (0, 8)\n",
    "  # ha and va stand for the horizontal and vertical alignment\n",
    "    ax.annotate(format(bar.get_height(), '.2f'),\n",
    "                   (bar.get_x() + bar.get_width() / 2,\n",
    "                    bar.get_height()), ha='center', va='center',\n",
    "                   size=10, xytext=(0, 8),\n",
    "                   textcoords='offset points')"
   ]
  },
  {
   "cell_type": "markdown",
   "metadata": {},
   "source": [
    "Данные значительно скошены в одну сторону, клиентов с просроченной задолженностью около 1% в данных.  \n",
    "Прежде чем мы перейдём к балансировке, давайте проведём дополнительное исследование переменных и взаимосвязей между ними."
   ]
  },
  {
   "cell_type": "markdown",
   "metadata": {},
   "source": [
    "### Исследование взаимосвязей между переменными\n",
    "Исследуем взаимосвязи между разными переменными и переменной `Arrears` - Просрочил оплату долга или нет."
   ]
  },
  {
   "cell_type": "markdown",
   "metadata": {},
   "source": [
    "#### Arrears - Sex\n",
    "Посмотрим на взаимосвязь пола клиента и есть у него просроченная задолженность или нет"
   ]
  },
  {
   "cell_type": "code",
   "execution_count": 29,
   "metadata": {},
   "outputs": [
    {
     "data": {
      "text/plain": [
       "Text(0.5, 0.98, 'Arrears vs Sex')"
      ]
     },
     "execution_count": 29,
     "metadata": {},
     "output_type": "execute_result"
    },
    {
     "data": {
      "image/png": "[encoded data removed]",
      "text/plain": [
       "<Figure size 720x360 with 2 Axes>"
      ]
     },
     "metadata": {
      "needs_background": "light"
     },
     "output_type": "display_data"
    }
   ],
   "source": [
    "g = sns.catplot(data = df, x = 'sex', col = 'arrears', kind = 'count', palette='mako')\n",
    "\n",
    "g.fig.subplots_adjust(top=0.9)\n",
    "g.fig.suptitle('Arrears vs Sex')"
   ]
  },
  {
   "cell_type": "markdown",
   "metadata": {},
   "source": [
    "Два распределения частот сравнивать неудобно, так как должников очень мало в датасете. Переведем данные в процентные значения."
   ]
  },
  {
   "cell_type": "code",
   "execution_count": 30,
   "metadata": {},
   "outputs": [
    {
     "data": {
      "text/plain": [
       "<seaborn.axisgrid.FacetGrid at 0x7f6189840048>"
      ]
     },
     "execution_count": 30,
     "metadata": {},
     "output_type": "execute_result"
    },
    {
     "data": {
      "image/png": "[encoded data removed]",
      "text/plain": [
       "<Figure size 720x360 with 2 Axes>"
      ]
     },
     "metadata": {
      "needs_background": "light"
     },
     "output_type": "display_data"
    }
   ],
   "source": [
    "df_sex = df.groupby('arrears')['sex'].value_counts(normalize=True).mul(100).round(2).to_frame('perc').reset_index()\n",
    "g = sns.catplot(data = df_sex, x = 'sex', y='perc', col = 'arrears', kind = 'bar', palette='mako')\n",
    "\n",
    "g.fig.subplots_adjust(top=0.9)\n",
    "g.fig.suptitle('Arrears vs Sex in Percentage')\n",
    "g.set_axis_labels(\"\", \"Percentage\")\n",
    "g.set(ylim=(0, 100))"
   ]
  },
  {
   "cell_type": "code",
   "execution_count": 31,
   "metadata": {},
   "outputs": [
    {
     "data": {
      "text/plain": [
       "<matplotlib.axes._subplots.AxesSubplot at 0x7f617e35b198>"
      ]
     },
     "execution_count": 31,
     "metadata": {},
     "output_type": "execute_result"
    },
    {
     "data": {
      "image/png": "[encoded data removed]",
      "text/plain": [
       "<Figure size 432x288 with 1 Axes>"
      ]
     },
     "metadata": {
      "needs_background": "light"
     },
     "output_type": "display_data"
    }
   ],
   "source": [
    "table = pd.crosstab(df.arrears, df.sex)\n",
    "table.div(table.sum(1).astype(float), axis=0).plot(kind='bar', stacked=True, color=['#479c9e', '#495084'])"
   ]
  },
  {
   "cell_type": "code",
   "execution_count": 32,
   "metadata": {},
   "outputs": [
    {
     "data": {
      "text/plain": [
       "arrears  sex\n",
       "0        М      0.652813\n",
       "         Ж      0.347187\n",
       "1        М      0.568646\n",
       "         Ж      0.431354\n",
       "Name: sex, dtype: float64"
      ]
     },
     "execution_count": 32,
     "metadata": {},
     "output_type": "execute_result"
    }
   ],
   "source": [
    "df.groupby('arrears')['sex'].value_counts(normalize=True)"
   ]
  },
  {
   "cell_type": "markdown",
   "metadata": {},
   "source": [
    "Делать выводы только по графику – не очень хорошо, поэтому проверим нашу гипотезу с помощью статистического теста.\n",
    "\n",
    "Есть две категориальные переменные → воспользуемся критерием хи-квадрат Пирсона:\n",
    "\n",
    "- $H_0$: взаимосвязи между переменными нет \n",
    "- $H_1$: взаимосвязь есть"
   ]
  },
  {
   "cell_type": "code",
   "execution_count": 33,
   "metadata": {},
   "outputs": [
    {
     "data": {
      "text/html": [
       "<div>\n",
       "<style scoped>\n",
       "    .dataframe tbody tr th:only-of-type {\n",
       "        vertical-align: middle;\n",
       "    }\n",
       "\n",
       "    .dataframe tbody tr th {\n",
       "        vertical-align: top;\n",
       "    }\n",
       "\n",
       "    .dataframe thead th {\n",
       "        text-align: right;\n",
       "    }\n",
       "</style>\n",
       "<table border=\"1\" class=\"dataframe\">\n",
       "  <thead>\n",
       "    <tr style=\"text-align: right;\">\n",
       "      <th>arrears</th>\n",
       "      <th>0</th>\n",
       "      <th>1</th>\n",
       "      <th>All</th>\n",
       "    </tr>\n",
       "    <tr>\n",
       "      <th>sex</th>\n",
       "      <th></th>\n",
       "      <th></th>\n",
       "      <th></th>\n",
       "    </tr>\n",
       "  </thead>\n",
       "  <tbody>\n",
       "    <tr>\n",
       "      <th>Ж</th>\n",
       "      <td>103267</td>\n",
       "      <td>1351</td>\n",
       "      <td>104618</td>\n",
       "    </tr>\n",
       "    <tr>\n",
       "      <th>М</th>\n",
       "      <td>194172</td>\n",
       "      <td>1781</td>\n",
       "      <td>195953</td>\n",
       "    </tr>\n",
       "    <tr>\n",
       "      <th>All</th>\n",
       "      <td>297439</td>\n",
       "      <td>3132</td>\n",
       "      <td>300571</td>\n",
       "    </tr>\n",
       "  </tbody>\n",
       "</table>\n",
       "</div>"
      ],
      "text/plain": [
       "arrears       0     1     All\n",
       "sex                          \n",
       "Ж        103267  1351  104618\n",
       "М        194172  1781  195953\n",
       "All      297439  3132  300571"
      ]
     },
     "execution_count": 33,
     "metadata": {},
     "output_type": "execute_result"
    }
   ],
   "source": [
    "pd.crosstab(df.sex, df.arrears, margins=True)"
   ]
  },
  {
   "cell_type": "code",
   "execution_count": 34,
   "metadata": {},
   "outputs": [
    {
     "data": {
      "text/plain": [
       "(96.38771405263448,\n",
       " 9.445145180613242e-23,\n",
       " 1,\n",
       " array([[103527.86297414,   1090.13702586],\n",
       "        [193911.13702586,   2041.86297414]]))"
      ]
     },
     "execution_count": 34,
     "metadata": {},
     "output_type": "execute_result"
    }
   ],
   "source": [
    "ss.chi2_contingency(pd.crosstab(df.sex, df.arrears))"
   ]
  },
  {
   "cell_type": "markdown",
   "metadata": {},
   "source": [
    "`P-value = 9.44 * 10^(-23) < 0.05` - есть основания отклонить $H_0$. Это значит, что взаимосвязь между переменными *Пол* и *Должник* - `ЕСТЬ`.  \n",
    "Среди должников женщин и мужчин почти поровну, а среди тех, кто платит вовремя больше мужчин, чем женщин."
   ]
  },
  {
   "cell_type": "markdown",
   "metadata": {},
   "source": [
    "#### Arrears - Employer\n",
    "Взаимосвязь между наличием работодателя и наличием просроченной задолженности."
   ]
  },
  {
   "cell_type": "code",
   "execution_count": 35,
   "metadata": {},
   "outputs": [
    {
     "data": {
      "text/plain": [
       "arrears  employer\n",
       "0        1           0.642639\n",
       "         0           0.357361\n",
       "1        1           0.702427\n",
       "         0           0.297573\n",
       "Name: employer, dtype: float64"
      ]
     },
     "execution_count": 35,
     "metadata": {},
     "output_type": "execute_result"
    }
   ],
   "source": [
    "df.groupby('arrears')['employer'].value_counts(normalize=True)"
   ]
  },
  {
   "cell_type": "markdown",
   "metadata": {},
   "source": [
    "Построим распределение сразу в процентах"
   ]
  },
  {
   "cell_type": "code",
   "execution_count": 36,
   "metadata": {},
   "outputs": [
    {
     "data": {
      "text/plain": [
       "<seaborn.axisgrid.FacetGrid at 0x7f6186496358>"
      ]
     },
     "execution_count": 36,
     "metadata": {},
     "output_type": "execute_result"
    },
    {
     "data": {
      "image/png": "[encoded data removed]",
      "text/plain": [
       "<Figure size 720x360 with 2 Axes>"
      ]
     },
     "metadata": {
      "needs_background": "light"
     },
     "output_type": "display_data"
    }
   ],
   "source": [
    "df_employer = df.groupby(['arrears'])['employer'].value_counts(normalize=True).round(2).to_frame('perc').reset_index()\n",
    "sns.catplot(x = 'employer', y='perc', col = 'arrears', kind = 'bar', data = df_employer, palette='mako')"
   ]
  },
  {
   "cell_type": "markdown",
   "metadata": {},
   "source": [
    "Также воспользуемся критерием хи-квадрат Пирсона для сравнения двух категориальных переменных."
   ]
  },
  {
   "cell_type": "code",
   "execution_count": 37,
   "metadata": {},
   "outputs": [
    {
     "data": {
      "text/html": [
       "<div>\n",
       "<style scoped>\n",
       "    .dataframe tbody tr th:only-of-type {\n",
       "        vertical-align: middle;\n",
       "    }\n",
       "\n",
       "    .dataframe tbody tr th {\n",
       "        vertical-align: top;\n",
       "    }\n",
       "\n",
       "    .dataframe thead th {\n",
       "        text-align: right;\n",
       "    }\n",
       "</style>\n",
       "<table border=\"1\" class=\"dataframe\">\n",
       "  <thead>\n",
       "    <tr style=\"text-align: right;\">\n",
       "      <th>arrears</th>\n",
       "      <th>0</th>\n",
       "      <th>1</th>\n",
       "      <th>All</th>\n",
       "    </tr>\n",
       "    <tr>\n",
       "      <th>employer</th>\n",
       "      <th></th>\n",
       "      <th></th>\n",
       "      <th></th>\n",
       "    </tr>\n",
       "  </thead>\n",
       "  <tbody>\n",
       "    <tr>\n",
       "      <th>0</th>\n",
       "      <td>106293</td>\n",
       "      <td>932</td>\n",
       "      <td>107225</td>\n",
       "    </tr>\n",
       "    <tr>\n",
       "      <th>1</th>\n",
       "      <td>191146</td>\n",
       "      <td>2200</td>\n",
       "      <td>193346</td>\n",
       "    </tr>\n",
       "    <tr>\n",
       "      <th>All</th>\n",
       "      <td>297439</td>\n",
       "      <td>3132</td>\n",
       "      <td>300571</td>\n",
       "    </tr>\n",
       "  </tbody>\n",
       "</table>\n",
       "</div>"
      ],
      "text/plain": [
       "arrears        0     1     All\n",
       "employer                      \n",
       "0         106293   932  107225\n",
       "1         191146  2200  193346\n",
       "All       297439  3132  300571"
      ]
     },
     "execution_count": 37,
     "metadata": {},
     "output_type": "execute_result"
    }
   ],
   "source": [
    "pd.crosstab(df.employer, df.arrears, margins=True)"
   ]
  },
  {
   "cell_type": "code",
   "execution_count": 38,
   "metadata": {},
   "outputs": [
    {
     "data": {
      "text/plain": [
       "(48.018162346168666,\n",
       " 4.222892520276323e-12,\n",
       " 1,\n",
       " array([[106107.6975989,   1117.3024011],\n",
       "        [191331.3024011,   2014.6975989]]))"
      ]
     },
     "execution_count": 38,
     "metadata": {},
     "output_type": "execute_result"
    }
   ],
   "source": [
    "ss.chi2_contingency(pd.crosstab(df.employer, df.arrears))"
   ]
  },
  {
   "cell_type": "markdown",
   "metadata": {},
   "source": [
    "Для групп `Задолженность - Наличие работодателя` также найдена статистически значимая взаимосвязь.\n",
    "Судя по всему, должники скорее устроены на работу, чем нет."
   ]
  },
  {
   "cell_type": "markdown",
   "metadata": {},
   "source": [
    "__Arrears - Revenue__  \n",
    "Взаимосвязь между доходом клиента и наличием просроченной задолженности."
   ]
  },
  {
   "cell_type": "code",
   "execution_count": 39,
   "metadata": {},
   "outputs": [
    {
     "data": {
      "text/plain": [
       "<matplotlib.axes._subplots.AxesSubplot at 0x7f6188a5d198>"
      ]
     },
     "execution_count": 39,
     "metadata": {},
     "output_type": "execute_result"
    },
    {
     "data": {
      "image/png": "[encoded data removed]",
      "text/plain": [
       "<Figure size 432x288 with 1 Axes>"
      ]
     },
     "metadata": {
      "needs_background": "light"
     },
     "output_type": "display_data"
    }
   ],
   "source": [
    "sns.boxplot(data=df, x='arrears', y='revenue_sum')"
   ]
  },
  {
   "cell_type": "code",
   "execution_count": 40,
   "metadata": {},
   "outputs": [
    {
     "data": {
      "text/plain": [
       "<matplotlib.axes._subplots.AxesSubplot at 0x7f61888c5240>"
      ]
     },
     "execution_count": 40,
     "metadata": {},
     "output_type": "execute_result"
    },
    {
     "data": {
      "image/png": "[encoded data removed]",
      "text/plain": [
       "<Figure size 720x360 with 1 Axes>"
      ]
     },
     "metadata": {
      "needs_background": "light"
     },
     "output_type": "display_data"
    }
   ],
   "source": [
    "plt.figure(figsize=(10, 5))\n",
    "sns.histplot(data=df, x='revenue_sum', hue='arrears', bins=150)"
   ]
  },
  {
   "cell_type": "markdown",
   "metadata": {},
   "source": [
    "Переменная \"Доход\" клиентов распределена ненормально с отклонением влево. Применять т-тест на таких данных нецелесообразно, результаты будут некорректны. Можем попробовать прологарифмировать данные и сравнить их."
   ]
  },
  {
   "cell_type": "code",
   "execution_count": 41,
   "metadata": {},
   "outputs": [
    {
     "name": "stderr",
     "output_type": "stream",
     "text": [
      "/opt/tljh/user/lib/python3.7/site-packages/pandas/core/generic.py:5165: SettingWithCopyWarning: \n",
      "A value is trying to be set on a copy of a slice from a DataFrame.\n",
      "Try using .loc[row_indexer,col_indexer] = value instead\n",
      "\n",
      "See the caveats in the documentation: https://pandas.pydata.org/pandas-docs/stable/user_guide/indexing.html#returning-a-view-versus-a-copy\n",
      "  self[name] = value\n",
      "/opt/tljh/user/lib/python3.7/site-packages/ipykernel_launcher.py:3: SettingWithCopyWarning: \n",
      "A value is trying to be set on a copy of a slice from a DataFrame.\n",
      "Try using .loc[row_indexer,col_indexer] = value instead\n",
      "\n",
      "See the caveats in the documentation: https://pandas.pydata.org/pandas-docs/stable/user_guide/indexing.html#returning-a-view-versus-a-copy\n",
      "  This is separate from the ipykernel package so we can avoid doing imports until\n"
     ]
    },
    {
     "data": {
      "text/html": [
       "<div>\n",
       "<style scoped>\n",
       "    .dataframe tbody tr th:only-of-type {\n",
       "        vertical-align: middle;\n",
       "    }\n",
       "\n",
       "    .dataframe tbody tr th {\n",
       "        vertical-align: top;\n",
       "    }\n",
       "\n",
       "    .dataframe thead th {\n",
       "        text-align: right;\n",
       "    }\n",
       "</style>\n",
       "<table border=\"1\" class=\"dataframe\">\n",
       "  <thead>\n",
       "    <tr style=\"text-align: right;\">\n",
       "      <th></th>\n",
       "      <th>revenue_sum</th>\n",
       "      <th>arrears</th>\n",
       "      <th>revenue_log</th>\n",
       "    </tr>\n",
       "  </thead>\n",
       "  <tbody>\n",
       "    <tr>\n",
       "      <th>0</th>\n",
       "      <td>24201.0</td>\n",
       "      <td>0</td>\n",
       "      <td>10.094149</td>\n",
       "    </tr>\n",
       "    <tr>\n",
       "      <th>1</th>\n",
       "      <td>11001.0</td>\n",
       "      <td>0</td>\n",
       "      <td>9.305741</td>\n",
       "    </tr>\n",
       "    <tr>\n",
       "      <th>2</th>\n",
       "      <td>11001.0</td>\n",
       "      <td>0</td>\n",
       "      <td>9.305741</td>\n",
       "    </tr>\n",
       "    <tr>\n",
       "      <th>3</th>\n",
       "      <td>30001.0</td>\n",
       "      <td>0</td>\n",
       "      <td>10.308986</td>\n",
       "    </tr>\n",
       "    <tr>\n",
       "      <th>4</th>\n",
       "      <td>50001.0</td>\n",
       "      <td>0</td>\n",
       "      <td>10.819798</td>\n",
       "    </tr>\n",
       "  </tbody>\n",
       "</table>\n",
       "</div>"
      ],
      "text/plain": [
       "   revenue_sum  arrears  revenue_log\n",
       "0      24201.0        0    10.094149\n",
       "1      11001.0        0     9.305741\n",
       "2      11001.0        0     9.305741\n",
       "3      30001.0        0    10.308986\n",
       "4      50001.0        0    10.819798"
      ]
     },
     "execution_count": 41,
     "metadata": {},
     "output_type": "execute_result"
    }
   ],
   "source": [
    "df_revenue = df[['revenue_sum', 'arrears']]\n",
    "df_revenue.revenue_sum = df_revenue.revenue_sum + 1\n",
    "df_revenue['revenue_log'] = np.log(df_revenue.revenue_sum)\n",
    "\n",
    "df_revenue.head()"
   ]
  },
  {
   "cell_type": "code",
   "execution_count": 42,
   "metadata": {},
   "outputs": [
    {
     "data": {
      "image/png": "[encoded data removed]",
      "text/plain": [
       "<Figure size 1728x1080 with 2 Axes>"
      ]
     },
     "metadata": {
      "needs_background": "light"
     },
     "output_type": "display_data"
    }
   ],
   "source": [
    "f, (ax1, ax2) = plt.subplots(2, 1, figsize=(24, 15))\n",
    "\n",
    "sns.histplot(data=df_revenue.loc[df_revenue.arrears == 0], x='revenue_log', bins=40, ax=ax1, color='#008c95')\n",
    "ax1.set(xlim=(6, 14))\n",
    "ax1.set_title('Revenue for Arrear=0')\n",
    "\n",
    "sns.histplot(data=df_revenue.loc[df_revenue.arrears == 1], x='revenue_log', bins=20, ax=ax2, color='#008c95')\n",
    "ax2.set(xlim=(6, 14))\n",
    "ax2.set_title('Revenue for Arrear=1')\n",
    "\n",
    "sns.despine()"
   ]
  },
  {
   "cell_type": "markdown",
   "metadata": {},
   "source": [
    "Как видно из графика, данные распределения уже больше похожи на нормальное, но все же есть небольшие выбросы. Т-критерий Стьюдента можно было бы применить в случае более менее равных дисперсий, но результаты будет сложно интерпретировать. Рассмотрим другие варианты.\n",
    "\n",
    "#### U-тест Mann-Whitney\n",
    "Теперь применим `непараметрический критерий Манна-Уитни` для сравнения двух распределений.  \n",
    "`H0` - Различий в двух выборках нет;  \n",
    "`H1` - Различия есть, и они статистически значимы.\n",
    "\n",
    "Тоже неплохой вариант, но так как размеры выборок `arrears = 0` и `arrears = 1` сильно отличаются, критерий Манна-Уитни лучше не применять."
   ]
  },
  {
   "cell_type": "markdown",
   "metadata": {},
   "source": [
    "Сравнивать результаты статистических тестов некорректно, но ради интереса посчитаем U-тест и Т-тест."
   ]
  },
  {
   "cell_type": "code",
   "execution_count": 43,
   "metadata": {},
   "outputs": [
    {
     "name": "stdout",
     "output_type": "stream",
     "text": [
      "Дисперсия распределения клиентов без просрока задолженности: 0.3803744055109599\n",
      "Дисперсия распределения клиентов с просроком задолженности: 0.3118303830264177\n"
     ]
    }
   ],
   "source": [
    "# Сравним дисперсии выборок 0 и 1 по переменной Arrears\n",
    "print('Дисперсия распределения клиентов без просрока задолженности:', df_revenue.loc[df_revenue.arrears == 0].revenue_log.var())\n",
    "print('Дисперсия распределения клиентов с просроком задолженности:', df_revenue.loc[df_revenue.arrears == 1].revenue_log.var())"
   ]
  },
  {
   "cell_type": "code",
   "execution_count": 44,
   "metadata": {},
   "outputs": [
    {
     "data": {
      "text/plain": [
       "LeveneResult(statistic=32.55312169261237, pvalue=1.1608716762870343e-08)"
      ]
     },
     "execution_count": 44,
     "metadata": {},
     "output_type": "execute_result"
    }
   ],
   "source": [
    "# Тест Левене о проверке разности дисперсий распределений\n",
    "ss.levene(df_revenue.loc[df_revenue.arrears == 0].revenue_log, df_revenue.loc[df_revenue.arrears == 1].revenue_log)"
   ]
  },
  {
   "cell_type": "markdown",
   "metadata": {},
   "source": [
    "В критерии Левене `p-value < 0.05`, это значит дисперсии логарифмических распределений значимо отличаются. Т-тест не очень подходит и в случае логарифма распределения."
   ]
  },
  {
   "cell_type": "code",
   "execution_count": 45,
   "metadata": {
    "scrolled": true
   },
   "outputs": [
    {
     "name": "stdout",
     "output_type": "stream",
     "text": [
      "Среднее распределения клиентов без просрока 10.024366862012789\n",
      "Среднее распределения клиентов с просроком 9.98258254258213\n"
     ]
    }
   ],
   "source": [
    "print('Среднее распределения клиентов без просрока', df_revenue.loc[df_revenue.arrears == 0].revenue_log.mean())\n",
    "print('Среднее распределения клиентов с просроком', df_revenue.loc[df_revenue.arrears == 1].revenue_log.mean())"
   ]
  },
  {
   "cell_type": "markdown",
   "metadata": {},
   "source": [
    "Кажется, что средние почти не отличаются в выборках. Проверим это статистически."
   ]
  },
  {
   "cell_type": "code",
   "execution_count": 46,
   "metadata": {},
   "outputs": [
    {
     "data": {
      "text/plain": [
       "MannwhitneyuResult(statistic=476584017.0, pvalue=0.025381226587919116)"
      ]
     },
     "execution_count": 46,
     "metadata": {},
     "output_type": "execute_result"
    }
   ],
   "source": [
    "# U-тест Манна-Уитни\n",
    "ss.mannwhitneyu(df[df.arrears == 0].revenue_sum, df[df.arrears == 1].revenue_sum)"
   ]
  },
  {
   "cell_type": "code",
   "execution_count": 47,
   "metadata": {},
   "outputs": [
    {
     "data": {
      "text/plain": [
       "Ttest_indResult(statistic=3.7753044821006783, pvalue=0.0001598430442257182)"
      ]
     },
     "execution_count": 47,
     "metadata": {},
     "output_type": "execute_result"
    }
   ],
   "source": [
    "# Т-тест Стьюдента\n",
    "ss.ttest_ind(df_revenue.loc[df_revenue.arrears == 0].revenue_log, df_revenue.loc[df_revenue.arrears == 1].revenue_log)"
   ]
  },
  {
   "cell_type": "markdown",
   "metadata": {},
   "source": [
    "Оба теста показали стат. значимые различия в выборках, но как я сказал ранее, применение этих критериев в данном кейсе некорректно."
   ]
  },
  {
   "cell_type": "markdown",
   "metadata": {},
   "source": [
    "Мы рассмотрели разные стат. критерии, но ни один из них не подходит для наши данных.\n",
    "Тем не менее есть метод, который достаточно универсален и его можно применять даже на таких ненормальных выборках, как у нас. Это `bootstrap`. В данном случае применим бутстрап средних."
   ]
  },
  {
   "cell_type": "markdown",
   "metadata": {},
   "source": [
    "**Bootstrap**\n",
    "\n",
    "Как проверяются гипотезы с помощью бутстрапа?\n",
    "1. Строим бутстрап-распределения параметра в А и Б;\n",
    "2. Вычисляем их разницу (вычитание матриц);\n",
    "3. В получившемся распределении разницы считаем доверительный интервал;\n",
    "4. Смотрим, попадает ли доверительный интервал в 0. И если да, то нулевая гипотеза на заданном уровне значимости принимается."
   ]
  },
  {
   "cell_type": "code",
   "execution_count": 48,
   "metadata": {},
   "outputs": [],
   "source": [
    "# Bootstrap function\n",
    "def get_bootstrap(\n",
    "    data_column_1, # числовые значения первой выборки\n",
    "    data_column_2, # числовые значения второй выборки\n",
    "    boot_it = 1000, # количество бутстрэп-подвыборок\n",
    "    statistic = np.mean, # интересующая нас статистика\n",
    "    bootstrap_conf_level = 0.95 # уровень значимости\n",
    "):\n",
    "    boot_data = []\n",
    "    for i in tqdm(range(boot_it)): # извлекаем подвыборки\n",
    "        samples_1 = data_column_1.sample(\n",
    "            len(data_column_1), \n",
    "            replace = True # параметр возвращения\n",
    "        ).values\n",
    "        \n",
    "        samples_2 = data_column_2.sample(\n",
    "            len(data_column_1), \n",
    "            replace = True\n",
    "        ).values\n",
    "        \n",
    "        boot_data.append(statistic(samples_1)-statistic(samples_2)) # mean() - применяем статистику\n",
    "        \n",
    "    pd_boot_data = pd.DataFrame(boot_data)\n",
    "        \n",
    "    left_quant = (1 - bootstrap_conf_level)/2\n",
    "    right_quant = 1 - (1 - bootstrap_conf_level) / 2\n",
    "    quants = pd_boot_data.quantile([left_quant, right_quant])\n",
    "        \n",
    "    p_1 = ss.norm.cdf(\n",
    "        x = 0, \n",
    "        loc = np.mean(boot_data), \n",
    "        scale = np.std(boot_data)\n",
    "    )\n",
    "    p_2 = ss.norm.cdf(\n",
    "        x = 0, \n",
    "        loc = -np.mean(boot_data), \n",
    "        scale = np.std(boot_data)\n",
    "    )\n",
    "    p_value = min(p_1, p_2) * 2\n",
    "        \n",
    "    # Визуализация\n",
    "    _, _, bars = plt.hist(pd_boot_data[0], bins = 50)\n",
    "    for bar in bars:\n",
    "        if bar.get_x() <= quants.iloc[0][0] or bar.get_x() >= quants.iloc[1][0]:\n",
    "            bar.set_facecolor('red')\n",
    "        else: \n",
    "            bar.set_facecolor('grey')\n",
    "            bar.set_edgecolor('black')\n",
    "    \n",
    "    plt.style.use('ggplot')\n",
    "    plt.vlines(quants,ymin=0,ymax=50,linestyle='--')\n",
    "    plt.xlabel('boot_data')\n",
    "    plt.ylabel('frequency')\n",
    "    plt.title(\"Histogram of boot_data\")\n",
    "    plt.show()\n",
    "       \n",
    "    return {\"boot_data\": boot_data, \n",
    "            \"quants\": quants, \n",
    "            \"p_value\": p_value}"
   ]
  },
  {
   "cell_type": "code",
   "execution_count": 49,
   "metadata": {},
   "outputs": [
    {
     "data": {
      "application/vnd.jupyter.widget-view+json": {
       "model_id": "ac720c320d3b4045afeda93798a70412",
       "version_major": 2,
       "version_minor": 0
      },
      "text/plain": [
       "HBox(children=(FloatProgress(value=0.0, max=1000.0), HTML(value='')))"
      ]
     },
     "metadata": {},
     "output_type": "display_data"
    },
    {
     "name": "stdout",
     "output_type": "stream",
     "text": [
      "\n"
     ]
    },
    {
     "data": {
      "image/png": "[encoded data removed]",
      "text/plain": [
       "<Figure size 432x288 with 1 Axes>"
      ]
     },
     "metadata": {
      "needs_background": "light"
     },
     "output_type": "display_data"
    }
   ],
   "source": [
    "a = get_bootstrap(df[df.arrears == 0].revenue_sum, df[df.arrears == 1].revenue_sum, statistic = np.mean)"
   ]
  },
  {
   "cell_type": "code",
   "execution_count": 50,
   "metadata": {},
   "outputs": [
    {
     "data": {
      "text/html": [
       "<div>\n",
       "<style scoped>\n",
       "    .dataframe tbody tr th:only-of-type {\n",
       "        vertical-align: middle;\n",
       "    }\n",
       "\n",
       "    .dataframe tbody tr th {\n",
       "        vertical-align: top;\n",
       "    }\n",
       "\n",
       "    .dataframe thead th {\n",
       "        text-align: right;\n",
       "    }\n",
       "</style>\n",
       "<table border=\"1\" class=\"dataframe\">\n",
       "  <thead>\n",
       "    <tr style=\"text-align: right;\">\n",
       "      <th></th>\n",
       "      <th>0</th>\n",
       "    </tr>\n",
       "  </thead>\n",
       "  <tbody>\n",
       "    <tr>\n",
       "      <th>0.025</th>\n",
       "      <td>2529.306074</td>\n",
       "    </tr>\n",
       "    <tr>\n",
       "      <th>0.975</th>\n",
       "      <td>2798.027165</td>\n",
       "    </tr>\n",
       "  </tbody>\n",
       "</table>\n",
       "</div>"
      ],
      "text/plain": [
       "                 0\n",
       "0.025  2529.306074\n",
       "0.975  2798.027165"
      ]
     },
     "execution_count": 50,
     "metadata": {},
     "output_type": "execute_result"
    }
   ],
   "source": [
    "# доверительный интервал для бутстрап распределения\n",
    "a['quants']"
   ]
  },
  {
   "cell_type": "code",
   "execution_count": 51,
   "metadata": {},
   "outputs": [
    {
     "data": {
      "text/plain": [
       "0.0"
      ]
     },
     "execution_count": 51,
     "metadata": {},
     "output_type": "execute_result"
    }
   ],
   "source": [
    "# Значение p-value получившегося распределения\n",
    "a['p_value']"
   ]
  },
  {
   "cell_type": "code",
   "execution_count": 52,
   "metadata": {},
   "outputs": [
    {
     "data": {
      "text/plain": [
       "(28047.3393136744, 25384.02157407407)"
      ]
     },
     "execution_count": 52,
     "metadata": {},
     "output_type": "execute_result"
    }
   ],
   "source": [
    "# средний доход клиентов без/с просроченными задолженностями\n",
    "df[df.arrears == 0].revenue_sum.mean(), df[df.arrears == 1].revenue_sum.mean()"
   ]
  },
  {
   "cell_type": "markdown",
   "metadata": {},
   "source": [
    "Итак, результаты бутстрапа средних показали, что доверительный интервал далек от 0 и `p-value < 0.05`. Это значит, что выборки статистически значимо отличаются друг от друга - клиенты с меньшим доходом вероятнее всего будут должниками, чем клиенты с высоким."
   ]
  },
  {
   "cell_type": "markdown",
   "metadata": {},
   "source": [
    "__Arrears - Age__  \n",
    "Взаимосвязь между возрастом клиента и наличием просроченной задолженности."
   ]
  },
  {
   "cell_type": "code",
   "execution_count": 53,
   "metadata": {
    "scrolled": true
   },
   "outputs": [
    {
     "data": {
      "text/plain": [
       "<matplotlib.axes._subplots.AxesSubplot at 0x7f618815e9b0>"
      ]
     },
     "execution_count": 53,
     "metadata": {},
     "output_type": "execute_result"
    },
    {
     "data": {
      "image/png": "[encoded data removed]",
      "text/plain": [
       "<Figure size 432x288 with 1 Axes>"
      ]
     },
     "metadata": {},
     "output_type": "display_data"
    }
   ],
   "source": [
    "df.age.hist(color='#008c95')"
   ]
  },
  {
   "cell_type": "code",
   "execution_count": 54,
   "metadata": {},
   "outputs": [
    {
     "data": {
      "image/png": "[encoded data removed]",
      "text/plain": [
       "<Figure size 1728x1080 with 2 Axes>"
      ]
     },
     "metadata": {},
     "output_type": "display_data"
    }
   ],
   "source": [
    "# Разделим две выборки на отдельные графики\n",
    "f, (ax1, ax2) = plt.subplots(2, 1, figsize=(24, 15))\n",
    "\n",
    "sns.histplot(data=df.loc[df.arrears == 0], x='age', bins=10, ax=ax1, color='#008c95')\n",
    "ax1.set(xlim=(20, 95))\n",
    "ax1.set_title('Age vs Arrear=0')\n",
    "\n",
    "sns.histplot(data=df.loc[df.arrears == 1], x='age', bins=10, ax=ax2, color='#008c95')\n",
    "ax2.set(xlim=(20, 95))\n",
    "ax2.set_title('Age vs Arrear=1')\n",
    "\n",
    "sns.despine()"
   ]
  },
  {
   "cell_type": "markdown",
   "metadata": {},
   "source": [
    "Как видно из графика, возраст большинства клиентов распределен в интервале от 40 до 80 лет."
   ]
  },
  {
   "cell_type": "markdown",
   "metadata": {},
   "source": [
    "Снова вопрос, какой стат. тест использовать для сравнения распределений?  \n",
    "Для начала проверим распределение возрастов клиентов на нормальность."
   ]
  },
  {
   "cell_type": "code",
   "execution_count": 55,
   "metadata": {},
   "outputs": [
    {
     "data": {
      "text/plain": [
       "NormaltestResult(statistic=60977.178605121844, pvalue=0.0)"
      ]
     },
     "execution_count": 55,
     "metadata": {},
     "output_type": "execute_result"
    }
   ],
   "source": [
    "# тест Д'Агостино-Пирсона на нормальность\n",
    "ss.normaltest(df.age)"
   ]
  },
  {
   "cell_type": "markdown",
   "metadata": {},
   "source": [
    "Так, распределение ненормально. А дисперсия двух выборок с/без просрока?"
   ]
  },
  {
   "cell_type": "code",
   "execution_count": 56,
   "metadata": {},
   "outputs": [
    {
     "data": {
      "text/plain": [
       "(215.3067219388521, 207.7022397456653)"
      ]
     },
     "execution_count": 56,
     "metadata": {},
     "output_type": "execute_result"
    }
   ],
   "source": [
    "df.loc[df.arrears == 0].age.var(), df.loc[df.arrears == 1].age.var()"
   ]
  },
  {
   "cell_type": "code",
   "execution_count": 57,
   "metadata": {},
   "outputs": [
    {
     "data": {
      "text/plain": [
       "LeveneResult(statistic=1.8204211273760789, pvalue=0.1772641733391705)"
      ]
     },
     "execution_count": 57,
     "metadata": {},
     "output_type": "execute_result"
    }
   ],
   "source": [
    "# Тест о равенстве дисперсий\n",
    "ss.levene(df.loc[df.arrears == 0].age, df.loc[df.arrears == 1].age)"
   ]
  },
  {
   "cell_type": "markdown",
   "metadata": {},
   "source": [
    "А вот дисперсии стат. значимо не отличаются. В целом можно воспользоваться и т-тестом Стьюдента, так как выборки достаточно большие и нормальностью распределений можно принебречь. К тому же выбросов тоже не наблюдается."
   ]
  },
  {
   "cell_type": "code",
   "execution_count": 58,
   "metadata": {},
   "outputs": [
    {
     "data": {
      "text/plain": [
       "Ttest_indResult(statistic=15.395122218382237, pvalue=1.8500074701992936e-53)"
      ]
     },
     "execution_count": 58,
     "metadata": {},
     "output_type": "execute_result"
    }
   ],
   "source": [
    "# Т-тест Стьюдента\n",
    "ss.ttest_ind(df.loc[df.arrears == 0].age, df.loc[df.arrears == 1].age)"
   ]
  },
  {
   "cell_type": "code",
   "execution_count": 59,
   "metadata": {},
   "outputs": [
    {
     "data": {
      "text/plain": [
       "(56.1584459334519, 52.10153256704981)"
      ]
     },
     "execution_count": 59,
     "metadata": {},
     "output_type": "execute_result"
    }
   ],
   "source": [
    "df.loc[df.arrears == 0].age.mean(), df.loc[df.arrears == 1].age.mean()"
   ]
  },
  {
   "cell_type": "markdown",
   "metadata": {},
   "source": [
    "Похоже, что распределения возрастов клиентов с просроченной задолженностью и без нее стат. значимо отличаются. Клиенты помоложе вероятнее могут просрочить платеж, чем клиенты постарше."
   ]
  },
  {
   "cell_type": "markdown",
   "metadata": {},
   "source": [
    "#### Матрица корреляции"
   ]
  },
  {
   "cell_type": "code",
   "execution_count": 60,
   "metadata": {},
   "outputs": [
    {
     "data": {
      "image/png": "[encoded data removed]",
      "text/plain": [
       "<Figure size 720x576 with 2 Axes>"
      ]
     },
     "metadata": {},
     "output_type": "display_data"
    }
   ],
   "source": [
    "# Корреляция дискретных переменных\n",
    "corr = df[['phones_provided', 'documents_provided', 'revenue_sum', 'age']].corr()\n",
    "\n",
    "plt.figure(figsize=(10, 8))\n",
    "ax = sns.heatmap(corr, annot=True, cmap=plt.cm.plasma)\n",
    "ax.set_title(\"Correlation Matrix\", fontsize=14)\n",
    "ax.set_yticklabels(corr.columns, rotation=0)\n",
    "\n",
    "sns.despine()"
   ]
  },
  {
   "cell_type": "markdown",
   "metadata": {},
   "source": [
    "Матрица корреляций между дискретными переменными показала, что наибольшая корреляция наблюдается между переменными __phones_provided__ и __age__. Причем эта связь отрицательная - чем больше возраст клиента, тем меньше он предоставляет телефонов. Проверим эту взаимосвязь на статистическую значимость."
   ]
  },
  {
   "cell_type": "code",
   "execution_count": 61,
   "metadata": {},
   "outputs": [
    {
     "name": "stderr",
     "output_type": "stream",
     "text": [
      "/opt/tljh/user/lib/python3.7/site-packages/seaborn/_decorators.py:43: FutureWarning: Pass the following variables as keyword args: x, y. From version 0.12, the only valid positional argument will be `data`, and passing other arguments without an explicit keyword will result in an error or misinterpretation.\n",
      "  FutureWarning\n"
     ]
    },
    {
     "data": {
      "text/plain": [
       "<matplotlib.axes._subplots.AxesSubplot at 0x7f6187d74be0>"
      ]
     },
     "execution_count": 61,
     "metadata": {},
     "output_type": "execute_result"
    },
    {
     "data": {
      "image/png": "[encoded data removed]",
      "text/plain": [
       "<Figure size 432x288 with 1 Axes>"
      ]
     },
     "metadata": {},
     "output_type": "display_data"
    }
   ],
   "source": [
    "sns.scatterplot(df.phones_provided, df.age)"
   ]
  },
  {
   "cell_type": "code",
   "execution_count": 62,
   "metadata": {},
   "outputs": [
    {
     "name": "stdout",
     "output_type": "stream",
     "text": [
      "Коэффициент корреляции Пирсона: -0.32 \n",
      "P-value: 0.00\n"
     ]
    }
   ],
   "source": [
    "# Коэффициент корреляции Пирсона\n",
    "r = ss.pearsonr(df.phones_provided, df.age)\n",
    "print(f'Коэффициент корреляции Пирсона: {r[0]:.2f} \\nP-value: {r[1]:.2f}')"
   ]
  },
  {
   "cell_type": "code",
   "execution_count": 63,
   "metadata": {},
   "outputs": [
    {
     "name": "stdout",
     "output_type": "stream",
     "text": [
      "Коэффициент корреляции Спирмена: -0.35 \n",
      "P-value: 0.00\n"
     ]
    }
   ],
   "source": [
    "# Непараметрический коэффициент корреляции Спирмена\n",
    "s = ss.spearmanr(df.phones_provided, df.age)\n",
    "print(f'Коэффициент корреляции Спирмена: {s[0]:.2f} \\nP-value: {s[1]:.2f}')"
   ]
  },
  {
   "cell_type": "markdown",
   "metadata": {},
   "source": [
    "Хотя результаты тестов показали p-value < 0.05, и взаимосвязь (корреляция) между числом предоставленных телефонов и возрастом клиентов статистически значима. Она не имеет никакого смысла, так как по факту переменная __phones_provided__ является категориальной, но с большим количеством категорий. Тоже самое с __documents_provided__."
   ]
  },
  {
   "cell_type": "markdown",
   "metadata": {},
   "source": [
    "#### Исследование взаимосвязи с мультиномиальными категориальными переменными\n",
    "Рассмотрим взаимодействие `Arrears` с другими категориальными переменными, представленными в датасете."
   ]
  },
  {
   "cell_type": "code",
   "execution_count": 64,
   "metadata": {},
   "outputs": [
    {
     "data": {
      "text/plain": [
       "Text(0, 0.5, 'Frequency of debt')"
      ]
     },
     "execution_count": 64,
     "metadata": {},
     "output_type": "execute_result"
    },
    {
     "data": {
      "image/png": "[encoded data removed]",
      "text/plain": [
       "<Figure size 432x288 with 1 Axes>"
      ]
     },
     "metadata": {},
     "output_type": "display_data"
    }
   ],
   "source": [
    "table = pd.crosstab(df.client_type, df.arrears)\n",
    "table.div(table.sum(1).astype(float), axis=0).plot(kind='bar', stacked=True, color=['g', 'r'])\n",
    "plt.title('Arrears Vs Job')\n",
    "plt.xlabel('Job Type')\n",
    "plt.ylabel('Frequency of debt')"
   ]
  },
  {
   "cell_type": "code",
   "execution_count": 65,
   "metadata": {},
   "outputs": [
    {
     "data": {
      "text/plain": [
       "client_type       arrears\n",
       "Владелец бизнеса  0          0.990931\n",
       "                  1          0.009069\n",
       "Пенсионер         0          0.991308\n",
       "                  1          0.008692\n",
       "Работодатель      0          0.992013\n",
       "                  1          0.007987\n",
       "Служащий          0          0.988568\n",
       "                  1          0.011432\n",
       "Студент           0          0.973822\n",
       "                  1          0.026178\n",
       "Name: arrears, dtype: float64"
      ]
     },
     "execution_count": 65,
     "metadata": {},
     "output_type": "execute_result"
    }
   ],
   "source": [
    "df.groupby('client_type')['arrears'].value_counts(normalize=True)"
   ]
  },
  {
   "cell_type": "markdown",
   "metadata": {},
   "source": [
    "Судя по всему, тип занятости не сильно влияет на наличие просроченной задолженности"
   ]
  },
  {
   "cell_type": "code",
   "execution_count": 66,
   "metadata": {},
   "outputs": [
    {
     "data": {
      "text/plain": [
       "Text(0, 0.5, 'Frequency of debt')"
      ]
     },
     "execution_count": 66,
     "metadata": {},
     "output_type": "execute_result"
    },
    {
     "data": {
      "image/png": "[encoded data removed]",
      "text/plain": [
       "<Figure size 432x288 with 1 Axes>"
      ]
     },
     "metadata": {},
     "output_type": "display_data"
    }
   ],
   "source": [
    "table = pd.crosstab(df.family, df.arrears)\n",
    "table.div(table.sum(1).astype(float), axis=0).plot(kind='bar', stacked=True, color=['g', 'r'])\n",
    "plt.title('Family Status vs Arrear')\n",
    "plt.xlabel('Family Status')\n",
    "plt.ylabel('Frequency of debt')"
   ]
  },
  {
   "cell_type": "code",
   "execution_count": 67,
   "metadata": {},
   "outputs": [
    {
     "data": {
      "text/plain": [
       "family              arrears\n",
       "Вдовец/Вдова        0          0.990697\n",
       "                    1          0.009303\n",
       "Женат/Замужем       0          0.991387\n",
       "                    1          0.008613\n",
       "Неофицальный брак   0          0.987082\n",
       "                    1          0.012918\n",
       "Разведен/Разведена  0          0.987403\n",
       "                    1          0.012597\n",
       "Холост/Не замужем   0          0.986072\n",
       "                    1          0.013928\n",
       "Name: arrears, dtype: float64"
      ]
     },
     "execution_count": 67,
     "metadata": {},
     "output_type": "execute_result"
    }
   ],
   "source": [
    "df.groupby('family')['arrears'].value_counts(normalize=True)"
   ]
  },
  {
   "cell_type": "markdown",
   "metadata": {},
   "source": [
    "Та же ситуация с семейным положением. Данная переменная не является существенным прогнозирующим фактором."
   ]
  },
  {
   "cell_type": "code",
   "execution_count": 68,
   "metadata": {},
   "outputs": [
    {
     "data": {
      "text/plain": [
       "Text(0, 0.5, 'Frequency of debt')"
      ]
     },
     "execution_count": 68,
     "metadata": {},
     "output_type": "execute_result"
    },
    {
     "data": {
      "image/png": "[encoded data removed]",
      "text/plain": [
       "<Figure size 432x288 with 1 Axes>"
      ]
     },
     "metadata": {},
     "output_type": "display_data"
    }
   ],
   "source": [
    "table = pd.crosstab(df.education, df.arrears)\n",
    "table.div(table.sum(1).astype(float), axis=0).plot(kind='bar', stacked=True, color=['g', 'r'])\n",
    "plt.title('Education vs Arrear')\n",
    "plt.xlabel('Education')\n",
    "plt.ylabel('Frequency of debt')"
   ]
  },
  {
   "cell_type": "code",
   "execution_count": 69,
   "metadata": {},
   "outputs": [
    {
     "data": {
      "text/plain": [
       "education             arrears\n",
       "Высшее                0          0.992485\n",
       "                      1          0.007515\n",
       "Другое                0          1.000000\n",
       "Незаконченное высшее  0          0.987853\n",
       "                      1          0.012147\n",
       "Неполное среднее      0          0.989460\n",
       "                      1          0.010540\n",
       "Несколько высших      0          0.997260\n",
       "                      1          0.002740\n",
       "Среднее               0          0.988590\n",
       "                      1          0.011410\n",
       "Среднее специальное   0          0.989031\n",
       "                      1          0.010969\n",
       "Name: arrears, dtype: float64"
      ]
     },
     "execution_count": 69,
     "metadata": {},
     "output_type": "execute_result"
    }
   ],
   "source": [
    "df.groupby('education')['arrears'].value_counts(normalize=True)"
   ]
  },
  {
   "cell_type": "markdown",
   "metadata": {},
   "source": [
    "Возможно некоторые признаки типа образования могут статистически значимо влиять на зависимую переменную - `Arrears`."
   ]
  },
  {
   "cell_type": "code",
   "execution_count": 70,
   "metadata": {},
   "outputs": [
    {
     "data": {
      "text/plain": [
       "Text(0, 0.5, 'Frequency of debt')"
      ]
     },
     "execution_count": 70,
     "metadata": {},
     "output_type": "execute_result"
    },
    {
     "data": {
      "image/png": "[encoded data removed]",
      "text/plain": [
       "<Figure size 432x288 with 1 Axes>"
      ]
     },
     "metadata": {},
     "output_type": "display_data"
    }
   ],
   "source": [
    "table = pd.crosstab(df.living_conditions, df.arrears)\n",
    "table.div(table.sum(1).astype(float), axis=0).plot(kind='bar', stacked=True, color=['g', 'r'])\n",
    "plt.title('Living Conditions vs Arrear')\n",
    "plt.xlabel('Living Condition')\n",
    "plt.ylabel('Frequency of debt')"
   ]
  },
  {
   "cell_type": "code",
   "execution_count": 71,
   "metadata": {},
   "outputs": [
    {
     "data": {
      "text/plain": [
       "living_conditions                 arrears\n",
       "Аренда                            0          0.988017\n",
       "                                  1          0.011983\n",
       "Живу с родителями/родственниками  0          0.987115\n",
       "                                  1          0.012885\n",
       "Собственность индивидуальная      0          0.990242\n",
       "                                  1          0.009758\n",
       "Собственность совместная          0          0.986908\n",
       "                                  1          0.013092\n",
       "Name: arrears, dtype: float64"
      ]
     },
     "execution_count": 71,
     "metadata": {},
     "output_type": "execute_result"
    }
   ],
   "source": [
    "df.groupby('living_conditions')['arrears'].value_counts(normalize=True)"
   ]
  },
  {
   "cell_type": "markdown",
   "metadata": {},
   "source": [
    "Тип жилья может не являться существенным прогнозирующим фактором."
   ]
  },
  {
   "cell_type": "code",
   "execution_count": 72,
   "metadata": {},
   "outputs": [
    {
     "data": {
      "text/plain": [
       "Text(0, 0.5, 'Frequency of debt')"
      ]
     },
     "execution_count": 72,
     "metadata": {},
     "output_type": "execute_result"
    },
    {
     "data": {
      "image/png": "[encoded data removed]",
      "text/plain": [
       "<Figure size 432x288 with 1 Axes>"
      ]
     },
     "metadata": {},
     "output_type": "display_data"
    }
   ],
   "source": [
    "table = pd.crosstab(df.federal_district, df.arrears)\n",
    "table.div(table.sum(1).astype(float), axis=0).plot(kind='bar', stacked=True, color=['g', 'r'])\n",
    "plt.title('Federal district vs Arrear')\n",
    "plt.xlabel('Federal district')\n",
    "plt.ylabel('Frequency of debt')"
   ]
  },
  {
   "cell_type": "code",
   "execution_count": 73,
   "metadata": {},
   "outputs": [
    {
     "data": {
      "text/plain": [
       "federal_district  arrears\n",
       "caucasian         0          0.989210\n",
       "                  1          0.010790\n",
       "central           0          0.990959\n",
       "                  1          0.009041\n",
       "fareast           0          0.988952\n",
       "                  1          0.011048\n",
       "northwest         0          0.989618\n",
       "                  1          0.010382\n",
       "siberian          0          0.990074\n",
       "                  1          0.009926\n",
       "south             0          0.988690\n",
       "                  1          0.011310\n",
       "ural              0          0.988502\n",
       "                  1          0.011498\n",
       "volga             0          0.988589\n",
       "                  1          0.011411\n",
       "Name: arrears, dtype: float64"
      ]
     },
     "execution_count": 73,
     "metadata": {},
     "output_type": "execute_result"
    }
   ],
   "source": [
    "df.groupby('federal_district')['arrears'].value_counts(normalize=True)"
   ]
  },
  {
   "cell_type": "markdown",
   "metadata": {},
   "source": [
    "Местоположение клиента также может не являться существенным прогнозирующим фактором."
   ]
  },
  {
   "cell_type": "markdown",
   "metadata": {},
   "source": [
    "#### Arrears - Sex - Client_type\n",
    "Взаимосвязь пола и типа занятости от наличия просроченной задолженности."
   ]
  },
  {
   "cell_type": "code",
   "execution_count": 74,
   "metadata": {},
   "outputs": [
    {
     "data": {
      "text/plain": [
       "<seaborn.axisgrid.FacetGrid at 0x7f61879065c0>"
      ]
     },
     "execution_count": 74,
     "metadata": {},
     "output_type": "execute_result"
    },
    {
     "data": {
      "image/png": "[encoded data removed]",
      "text/plain": [
       "<Figure size 1800x360 with 5 Axes>"
      ]
     },
     "metadata": {},
     "output_type": "display_data"
    }
   ],
   "source": [
    "sns.catplot(data = df, x='sex', y='arrears', col='client_type', kind = 'bar', palette=['b', 'r'])"
   ]
  },
  {
   "cell_type": "markdown",
   "metadata": {},
   "source": [
    "Графики показывают, что для различных типов занятости вероятнее всего должником будет клиент женского пола."
   ]
  },
  {
   "cell_type": "markdown",
   "metadata": {},
   "source": [
    "#### Arrears - Sex - Employer\n",
    "Взаимосвязь пола и наличия работодателя от имеющейся просроченной задолженности."
   ]
  },
  {
   "cell_type": "code",
   "execution_count": 75,
   "metadata": {},
   "outputs": [
    {
     "data": {
      "text/plain": [
       "<seaborn.axisgrid.FacetGrid at 0x7f61878dfb38>"
      ]
     },
     "execution_count": 75,
     "metadata": {},
     "output_type": "execute_result"
    },
    {
     "data": {
      "image/png": "[encoded data removed]",
      "text/plain": [
       "<Figure size 406.75x360 with 1 Axes>"
      ]
     },
     "metadata": {},
     "output_type": "display_data"
    }
   ],
   "source": [
    "sns.catplot(data = df, x='employer', y='arrears', kind = 'point', hue='sex', palette=['b', 'r'])"
   ]
  },
  {
   "cell_type": "markdown",
   "metadata": {},
   "source": [
    "Для мужчин вероятность просроченного долга вырастает при появлении у него работодателя. Для женщин эта вероятность возрастает незначительно."
   ]
  },
  {
   "cell_type": "markdown",
   "metadata": {},
   "source": [
    "Так как мы рассмотрели зависимости между переменными только визуально, с точки зрения статистики мы не можем говорить об истинности наших предположений.  \n",
    "Вместо исследования каждой отдельной взаимосвязи, лучше построим логистическую регрессию, которая виявит статистически значимые предикторы и поможет предсказать значение `Arrears`."
   ]
  },
  {
   "cell_type": "markdown",
   "metadata": {},
   "source": [
    "### Создание индикаторных переменных\n",
    "Это переменные со всего двумя значениями — ноль и единица."
   ]
  },
  {
   "cell_type": "code",
   "execution_count": 76,
   "metadata": {},
   "outputs": [
    {
     "data": {
      "text/html": [
       "<div>\n",
       "<style scoped>\n",
       "    .dataframe tbody tr th:only-of-type {\n",
       "        vertical-align: middle;\n",
       "    }\n",
       "\n",
       "    .dataframe tbody tr th {\n",
       "        vertical-align: top;\n",
       "    }\n",
       "\n",
       "    .dataframe thead th {\n",
       "        text-align: right;\n",
       "    }\n",
       "</style>\n",
       "<table border=\"1\" class=\"dataframe\">\n",
       "  <thead>\n",
       "    <tr style=\"text-align: right;\">\n",
       "      <th></th>\n",
       "      <th>employer</th>\n",
       "      <th>phones_provided</th>\n",
       "      <th>documents_provided</th>\n",
       "      <th>arrears</th>\n",
       "      <th>revenue_sum</th>\n",
       "      <th>age</th>\n",
       "      <th>sex_М</th>\n",
       "      <th>family_Женат/Замужем</th>\n",
       "      <th>family_Неофицальный брак</th>\n",
       "      <th>family_Разведен/Разведена</th>\n",
       "      <th>...</th>\n",
       "      <th>living_conditions_Живу с родителями/родственниками</th>\n",
       "      <th>living_conditions_Собственность индивидуальная</th>\n",
       "      <th>living_conditions_Собственность совместная</th>\n",
       "      <th>federal_district_central</th>\n",
       "      <th>federal_district_fareast</th>\n",
       "      <th>federal_district_northwest</th>\n",
       "      <th>federal_district_siberian</th>\n",
       "      <th>federal_district_south</th>\n",
       "      <th>federal_district_ural</th>\n",
       "      <th>federal_district_volga</th>\n",
       "    </tr>\n",
       "  </thead>\n",
       "  <tbody>\n",
       "    <tr>\n",
       "      <th>0</th>\n",
       "      <td>0</td>\n",
       "      <td>4</td>\n",
       "      <td>1</td>\n",
       "      <td>0</td>\n",
       "      <td>24200.0</td>\n",
       "      <td>64</td>\n",
       "      <td>1</td>\n",
       "      <td>0</td>\n",
       "      <td>0</td>\n",
       "      <td>0</td>\n",
       "      <td>...</td>\n",
       "      <td>0</td>\n",
       "      <td>1</td>\n",
       "      <td>0</td>\n",
       "      <td>0</td>\n",
       "      <td>1</td>\n",
       "      <td>0</td>\n",
       "      <td>0</td>\n",
       "      <td>0</td>\n",
       "      <td>0</td>\n",
       "      <td>0</td>\n",
       "    </tr>\n",
       "    <tr>\n",
       "      <th>1</th>\n",
       "      <td>1</td>\n",
       "      <td>5</td>\n",
       "      <td>1</td>\n",
       "      <td>0</td>\n",
       "      <td>11000.0</td>\n",
       "      <td>75</td>\n",
       "      <td>1</td>\n",
       "      <td>0</td>\n",
       "      <td>0</td>\n",
       "      <td>1</td>\n",
       "      <td>...</td>\n",
       "      <td>0</td>\n",
       "      <td>0</td>\n",
       "      <td>1</td>\n",
       "      <td>0</td>\n",
       "      <td>0</td>\n",
       "      <td>1</td>\n",
       "      <td>0</td>\n",
       "      <td>0</td>\n",
       "      <td>0</td>\n",
       "      <td>0</td>\n",
       "    </tr>\n",
       "    <tr>\n",
       "      <th>2</th>\n",
       "      <td>1</td>\n",
       "      <td>5</td>\n",
       "      <td>1</td>\n",
       "      <td>0</td>\n",
       "      <td>11000.0</td>\n",
       "      <td>75</td>\n",
       "      <td>1</td>\n",
       "      <td>0</td>\n",
       "      <td>0</td>\n",
       "      <td>1</td>\n",
       "      <td>...</td>\n",
       "      <td>0</td>\n",
       "      <td>0</td>\n",
       "      <td>1</td>\n",
       "      <td>0</td>\n",
       "      <td>0</td>\n",
       "      <td>1</td>\n",
       "      <td>0</td>\n",
       "      <td>0</td>\n",
       "      <td>0</td>\n",
       "      <td>0</td>\n",
       "    </tr>\n",
       "    <tr>\n",
       "      <th>3</th>\n",
       "      <td>1</td>\n",
       "      <td>6</td>\n",
       "      <td>1</td>\n",
       "      <td>0</td>\n",
       "      <td>30000.0</td>\n",
       "      <td>32</td>\n",
       "      <td>0</td>\n",
       "      <td>1</td>\n",
       "      <td>0</td>\n",
       "      <td>0</td>\n",
       "      <td>...</td>\n",
       "      <td>1</td>\n",
       "      <td>0</td>\n",
       "      <td>0</td>\n",
       "      <td>0</td>\n",
       "      <td>0</td>\n",
       "      <td>0</td>\n",
       "      <td>1</td>\n",
       "      <td>0</td>\n",
       "      <td>0</td>\n",
       "      <td>0</td>\n",
       "    </tr>\n",
       "    <tr>\n",
       "      <th>4</th>\n",
       "      <td>0</td>\n",
       "      <td>5</td>\n",
       "      <td>1</td>\n",
       "      <td>0</td>\n",
       "      <td>50000.0</td>\n",
       "      <td>70</td>\n",
       "      <td>1</td>\n",
       "      <td>0</td>\n",
       "      <td>0</td>\n",
       "      <td>0</td>\n",
       "      <td>...</td>\n",
       "      <td>0</td>\n",
       "      <td>1</td>\n",
       "      <td>0</td>\n",
       "      <td>0</td>\n",
       "      <td>1</td>\n",
       "      <td>0</td>\n",
       "      <td>0</td>\n",
       "      <td>0</td>\n",
       "      <td>0</td>\n",
       "      <td>0</td>\n",
       "    </tr>\n",
       "  </tbody>\n",
       "</table>\n",
       "<p>5 rows × 31 columns</p>\n",
       "</div>"
      ],
      "text/plain": [
       "   employer  phones_provided  documents_provided  arrears  revenue_sum  age  \\\n",
       "0         0                4                   1        0      24200.0   64   \n",
       "1         1                5                   1        0      11000.0   75   \n",
       "2         1                5                   1        0      11000.0   75   \n",
       "3         1                6                   1        0      30000.0   32   \n",
       "4         0                5                   1        0      50000.0   70   \n",
       "\n",
       "   sex_М  family_Женат/Замужем  family_Неофицальный брак  \\\n",
       "0      1                     0                         0   \n",
       "1      1                     0                         0   \n",
       "2      1                     0                         0   \n",
       "3      0                     1                         0   \n",
       "4      1                     0                         0   \n",
       "\n",
       "   family_Разведен/Разведена  ...  \\\n",
       "0                          0  ...   \n",
       "1                          1  ...   \n",
       "2                          1  ...   \n",
       "3                          0  ...   \n",
       "4                          0  ...   \n",
       "\n",
       "   living_conditions_Живу с родителями/родственниками  \\\n",
       "0                                                  0    \n",
       "1                                                  0    \n",
       "2                                                  0    \n",
       "3                                                  1    \n",
       "4                                                  0    \n",
       "\n",
       "   living_conditions_Собственность индивидуальная  \\\n",
       "0                                               1   \n",
       "1                                               0   \n",
       "2                                               0   \n",
       "3                                               0   \n",
       "4                                               1   \n",
       "\n",
       "   living_conditions_Собственность совместная  federal_district_central  \\\n",
       "0                                           0                         0   \n",
       "1                                           1                         0   \n",
       "2                                           1                         0   \n",
       "3                                           0                         0   \n",
       "4                                           0                         0   \n",
       "\n",
       "   federal_district_fareast  federal_district_northwest  \\\n",
       "0                         1                           0   \n",
       "1                         0                           1   \n",
       "2                         0                           1   \n",
       "3                         0                           0   \n",
       "4                         1                           0   \n",
       "\n",
       "   federal_district_siberian  federal_district_south  federal_district_ural  \\\n",
       "0                          0                       0                      0   \n",
       "1                          0                       0                      0   \n",
       "2                          0                       0                      0   \n",
       "3                          1                       0                      0   \n",
       "4                          0                       0                      0   \n",
       "\n",
       "   federal_district_volga  \n",
       "0                       0  \n",
       "1                       0  \n",
       "2                       0  \n",
       "3                       0  \n",
       "4                       0  \n",
       "\n",
       "[5 rows x 31 columns]"
      ]
     },
     "execution_count": 76,
     "metadata": {},
     "output_type": "execute_result"
    }
   ],
   "source": [
    "df_regression = pd.get_dummies(data=df, prefix=['sex','family','education',\n",
    "                                            'client_type','living_conditions', 'federal_district'], drop_first = True)\n",
    "df_regression.head()"
   ]
  },
  {
   "cell_type": "code",
   "execution_count": 77,
   "metadata": {},
   "outputs": [
    {
     "data": {
      "text/plain": [
       "array(['employer', 'phones_provided', 'documents_provided', 'arrears',\n",
       "       'revenue_sum', 'age', 'sex_М', 'family_Женат/Замужем',\n",
       "       'family_Неофицальный брак', 'family_Разведен/Разведена',\n",
       "       'family_Холост/Не замужем', 'education_Другое',\n",
       "       'education_Незаконченное высшее', 'education_Неполное среднее',\n",
       "       'education_Несколько высших', 'education_Среднее',\n",
       "       'education_Среднее специальное', 'client_type_Пенсионер',\n",
       "       'client_type_Работодатель', 'client_type_Служащий',\n",
       "       'client_type_Студент',\n",
       "       'living_conditions_Живу с родителями/родственниками',\n",
       "       'living_conditions_Собственность индивидуальная',\n",
       "       'living_conditions_Собственность совместная',\n",
       "       'federal_district_central', 'federal_district_fareast',\n",
       "       'federal_district_northwest', 'federal_district_siberian',\n",
       "       'federal_district_south', 'federal_district_ural',\n",
       "       'federal_district_volga'], dtype=object)"
      ]
     },
     "execution_count": 77,
     "metadata": {},
     "output_type": "execute_result"
    }
   ],
   "source": [
    "df_regression.columns.values"
   ]
  },
  {
   "cell_type": "markdown",
   "metadata": {},
   "source": [
    "### Логистическая регрессия\n",
    "Рассчитаем модель, отберем только значимые предикторы и оценим точность"
   ]
  },
  {
   "cell_type": "code",
   "execution_count": 78,
   "metadata": {},
   "outputs": [
    {
     "name": "stdout",
     "output_type": "stream",
     "text": [
      "Optimization terminated successfully.\n",
      "         Current function value: 0.056854\n",
      "         Iterations 10\n",
      "                                          Results: Logit\n",
      "===================================================================================================\n",
      "Model:                         Logit                       Pseudo R-squared:            0.018      \n",
      "Dependent Variable:            arrears                     AIC:                         34235.3294 \n",
      "Date:                          2023-01-10 18:17            BIC:                         34543.1191 \n",
      "No. Observations:              300571                      Log-Likelihood:              -17089.    \n",
      "Df Model:                      28                          LL-Null:                     -17410.    \n",
      "Df Residuals:                  300542                      LLR p-value:                 1.6350e-117\n",
      "Converged:                     1.0000                      Scale:                       1.0000     \n",
      "No. Iterations:                10.0000                                                             \n",
      "---------------------------------------------------------------------------------------------------\n",
      "                                                    Coef.  Std.Err.    z     P>|z|   [0.025  0.975]\n",
      "---------------------------------------------------------------------------------------------------\n",
      "employer                                           -3.0753   0.3174  -9.6889 0.0000 -3.6974 -2.4532\n",
      "phones_provided                                     0.0423   0.0212   1.9972 0.0458  0.0008  0.0838\n",
      "documents_provided                                  0.3052   0.0530   5.7572 0.0000  0.2013  0.4091\n",
      "revenue_sum                                        -0.0000   0.0000  -8.1458 0.0000 -0.0000 -0.0000\n",
      "age                                                -0.0229   0.0018 -12.8224 0.0000 -0.0265 -0.0194\n",
      "sex_М                                              -0.4034   0.0396 -10.1897 0.0000 -0.4810 -0.3258\n",
      "family_Женат/Замужем                               -0.4904   0.0635  -7.7261 0.0000 -0.6149 -0.3660\n",
      "family_Неофицальный брак                           -0.1822   0.0813  -2.2414 0.0250 -0.3415 -0.0229\n",
      "family_Разведен/Разведена                           0.0399   0.0681   0.5863 0.5577 -0.0935  0.1734\n",
      "family_Холост/Не замужем                           -0.1374   0.0731  -1.8793 0.0602 -0.2808  0.0059\n",
      "education_Незаконченное высшее                      0.1586   0.1184   1.3401 0.1802 -0.0734  0.3906\n",
      "education_Неполное среднее                          0.2149   0.1068   2.0133 0.0441  0.0057  0.4241\n",
      "education_Несколько высших                         -1.0110   1.0031  -1.0079 0.3135 -2.9770  0.9550\n",
      "education_Среднее                                   0.2778   0.0610   4.5525 0.0000  0.1582  0.3975\n",
      "education_Среднее специальное                       0.2289   0.0568   4.0306 0.0001  0.1176  0.3403\n",
      "client_type_Пенсионер                              -3.0217   0.2781 -10.8649 0.0000 -3.5668 -2.4766\n",
      "client_type_Работодатель                            0.0497   0.4763   0.1043 0.9169 -0.8838  0.9832\n",
      "client_type_Служащий                               -0.0538   0.1594  -0.3374 0.7358 -0.3662  0.2586\n",
      "client_type_Студент                                 0.7267   0.4817   1.5085 0.1314 -0.2174  1.6708\n",
      "living_conditions_Живу с родителями/родственниками -0.1837   0.1163  -1.5794 0.1142 -0.4117  0.0443\n",
      "living_conditions_Собственность индивидуальная     -0.1056   0.0642  -1.6448 0.1000 -0.2315  0.0202\n",
      "living_conditions_Собственность совместная         -0.1483   0.0776  -1.9112 0.0560 -0.3004  0.0038\n",
      "federal_district_central                           -0.0791   0.2081  -0.3799 0.7040 -0.4869  0.3288\n",
      "federal_district_fareast                           -0.0204   0.2074  -0.0981 0.9218 -0.4268  0.3861\n",
      "federal_district_northwest                          0.0679   0.2235   0.3040 0.7611 -0.3701  0.5060\n",
      "federal_district_siberian                          -0.1649   0.2038  -0.8092 0.4184 -0.5644  0.2346\n",
      "federal_district_south                              0.0510   0.2098   0.2432 0.8079 -0.3603  0.4623\n",
      "federal_district_ural                               0.0185   0.2106   0.0878 0.9300 -0.3942  0.4312\n",
      "federal_district_volga                              0.0302   0.2067   0.1463 0.8837 -0.3749  0.4354\n",
      "===================================================================================================\n",
      "\n"
     ]
    }
   ],
   "source": [
    "cols = ['employer', 'phones_provided', 'documents_provided',\n",
    "       'revenue_sum', 'age', 'sex_М', 'family_Женат/Замужем',\n",
    "       'family_Неофицальный брак', 'family_Разведен/Разведена',\n",
    "       'family_Холост/Не замужем', 'education_Незаконченное высшее',\n",
    "       'education_Неполное среднее', 'education_Несколько высших',\n",
    "       'education_Среднее', 'education_Среднее специальное',\n",
    "       'client_type_Пенсионер', 'client_type_Работодатель',\n",
    "       'client_type_Служащий', 'client_type_Студент',\n",
    "       'living_conditions_Живу с родителями/родственниками',\n",
    "       'living_conditions_Собственность индивидуальная',\n",
    "       'living_conditions_Собственность совместная',\n",
    "       'federal_district_central', 'federal_district_fareast',\n",
    "       'federal_district_northwest', 'federal_district_siberian',\n",
    "       'federal_district_south', 'federal_district_ural',\n",
    "       'federal_district_volga']\n",
    "X = df_regression[cols]\n",
    "y = df_regression['arrears']\n",
    "logit_model = sm.Logit(y,X)\n",
    "result = logit_model.fit()\n",
    "print(result.summary2())"
   ]
  },
  {
   "cell_type": "markdown",
   "metadata": {},
   "source": [
    "Уберем переменные с p-value > 0.05"
   ]
  },
  {
   "cell_type": "code",
   "execution_count": 79,
   "metadata": {},
   "outputs": [
    {
     "name": "stdout",
     "output_type": "stream",
     "text": [
      "Optimization terminated successfully.\n",
      "         Current function value: 0.056928\n",
      "         Iterations 9\n",
      "                                Results: Logit\n",
      "==============================================================================\n",
      "Model:                  Logit                Pseudo R-squared:     0.017      \n",
      "Dependent Variable:     arrears              AIC:                  34243.7161 \n",
      "Date:                   2023-01-10 18:17     BIC:                  34360.4639 \n",
      "No. Observations:       300571               Log-Likelihood:       -17111.    \n",
      "Df Model:               10                   LL-Null:              -17410.    \n",
      "Df Residuals:           300560               LLR p-value:          3.6789e-122\n",
      "Converged:              1.0000               Scale:                1.0000     \n",
      "No. Iterations:         9.0000                                                \n",
      "------------------------------------------------------------------------------\n",
      "                               Coef.  Std.Err.    z     P>|z|   [0.025  0.975]\n",
      "------------------------------------------------------------------------------\n",
      "employer                      -3.4515   0.1422 -24.2673 0.0000 -3.7303 -3.1728\n",
      "phones_provided                0.0495   0.0211   2.3470 0.0189  0.0082  0.0908\n",
      "documents_provided             0.3131   0.0527   5.9386 0.0000  0.2098  0.4164\n",
      "revenue_sum                   -0.0000   0.0000  -8.3400 0.0000 -0.0000 -0.0000\n",
      "age                           -0.0209   0.0016 -13.0894 0.0000 -0.0240 -0.0177\n",
      "sex_М                         -0.3886   0.0384 -10.1129 0.0000 -0.4639 -0.3132\n",
      "family_Женат/Замужем          -0.4520   0.0421 -10.7290 0.0000 -0.5346 -0.3694\n",
      "family_Неофицальный брак      -0.1385   0.0653  -2.1200 0.0340 -0.2666 -0.0105\n",
      "education_Среднее              0.2184   0.0526   4.1551 0.0000  0.1154  0.3214\n",
      "education_Среднее специальное  0.1765   0.0483   3.6515 0.0003  0.0817  0.2712\n",
      "client_type_Пенсионер         -3.3450   0.1488 -22.4851 0.0000 -3.6366 -3.0534\n",
      "==============================================================================\n",
      "\n"
     ]
    }
   ],
   "source": [
    "cols = ['employer', 'phones_provided', 'documents_provided',\n",
    "       'revenue_sum', 'age', 'sex_М', 'family_Женат/Замужем',\n",
    "       'family_Неофицальный брак', 'education_Среднее',\n",
    "        'education_Среднее специальное', 'client_type_Пенсионер']\n",
    "X = df_regression[cols]\n",
    "y = df_regression['arrears']\n",
    "logit_model = sm.Logit(y,X)\n",
    "result = logit_model.fit()\n",
    "print(result.summary2())"
   ]
  },
  {
   "cell_type": "markdown",
   "metadata": {},
   "source": [
    "Подгонка модели логистической регрессии. Прогнозирование результатов тестового набора и вычисление точности."
   ]
  },
  {
   "cell_type": "code",
   "execution_count": 80,
   "metadata": {},
   "outputs": [
    {
     "name": "stdout",
     "output_type": "stream",
     "text": [
      "Точность классификатора логистической регрессии для тестового набора: 0.99\n"
     ]
    }
   ],
   "source": [
    "X_train, X_test, y_train, y_test = train_test_split(X, y, test_size=0.3, random_state=0)\n",
    "logreg = LogisticRegression()\n",
    "logreg.fit(X_train, y_train)\n",
    "y_pred = logreg.predict(X_test)\n",
    "print('Точность классификатора логистической регрессии для тестового набора: {:.2f}'.format(logreg.score(X_test, y_test)))"
   ]
  },
  {
   "cell_type": "code",
   "execution_count": 81,
   "metadata": {},
   "outputs": [
    {
     "data": {
      "text/plain": [
       "array([[89281,     0],\n",
       "       [  891,     0]])"
      ]
     },
     "execution_count": 81,
     "metadata": {},
     "output_type": "execute_result"
    }
   ],
   "source": [
    "metrics.confusion_matrix(y_test, y_pred)"
   ]
  },
  {
   "cell_type": "markdown",
   "metadata": {},
   "source": [
    "Результат показывает, что у нас __89 281__ верных прогнозов и __891__ ошибочных."
   ]
  },
  {
   "cell_type": "code",
   "execution_count": 82,
   "metadata": {},
   "outputs": [
    {
     "name": "stdout",
     "output_type": "stream",
     "text": [
      "              precision    recall  f1-score   support\n",
      "\n",
      "           0       0.99      1.00      1.00     89281\n",
      "           1       1.00      0.00      0.00       891\n",
      "\n",
      "    accuracy                           0.99     90172\n",
      "   macro avg       1.00      0.50      0.50     90172\n",
      "weighted avg       0.99      0.99      0.99     90172\n",
      "\n"
     ]
    }
   ],
   "source": [
    "print(metrics.classification_report(y_test, y_pred, zero_division=1))"
   ]
  },
  {
   "cell_type": "markdown",
   "metadata": {},
   "source": [
    "#### Выводы\n",
    "Результаты модели говорят нам о ее высокой точности - `0.99`. Также мы отобрали значимые признаки, которые положительно, либо отрицательно влияют на шансы неоплаты задолженности, что позволяет нам предсказывать конечную переменную `Arrears`, имея данные о клиенте.\n",
    "\n",
    "В итоге значимыми переменными стали:\n",
    "- Employer - Есть работодатель или нет;\n",
    "- Phones Provided - Количество предоставленных телефонов;\n",
    "- Documents Provided - Количество предоставленных документов;\n",
    "- Revenue - Доход;\n",
    "- Age - Возраст;\n",
    "- Sex - Пол;\n",
    "- Признак Family - категории Женат/Замужем и Неофициальный брак;\n",
    "- Признак Education - категории Среднее и Среднее специальное;\n",
    "- Признак Client_type - категория Пенсионер."
   ]
  },
  {
   "cell_type": "markdown",
   "metadata": {},
   "source": [
    "#### Послесловие\n",
    "\n",
    "Далее мы могли бы применить over-sampling для увеличения частоты выборки должников, чтобы уровнять их с теми, кто платит вовремя и снова просчитать модель. Для этого есть алгоритм __SMOTE__.\n",
    "\n",
    "На высоком уровне SMOTE:\n",
    "- создаёт синтетические образцы на основе выборок минорного класса (должники) вместо создания их копий;\n",
    "- случайно выбирает одного из ближайших k-соседей и использует его для создания схожих, но случайно изменённых новых сведений."
   ]
  }
 ],
 "metadata": {
  "kernelspec": {
   "display_name": "Python 3",
   "language": "python",
   "name": "python3"
  },
  "language_info": {
   "codemirror_mode": {
    "name": "ipython",
    "version": 3
   },
   "file_extension": ".py",
   "mimetype": "text/x-python",
   "name": "python",
   "nbconvert_exporter": "python",
   "pygments_lexer": "ipython3",
   "version": "3.7.3"
  }
 },
 "nbformat": 4,
 "nbformat_minor": 4
}
